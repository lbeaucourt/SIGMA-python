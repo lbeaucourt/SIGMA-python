{
 "cells": [
  {
   "cell_type": "markdown",
   "metadata": {},
   "source": [
    "# Introduction"
   ]
  },
  {
   "cell_type": "markdown",
   "metadata": {},
   "source": [
    "Cet examen se base sur les données météo france de 2018"
   ]
  },
  {
   "cell_type": "markdown",
   "metadata": {},
   "source": [
    "# Import des modules"
   ]
  },
  {
   "cell_type": "code",
   "execution_count": 1,
   "metadata": {},
   "outputs": [],
   "source": [
    "import numpy as np\n",
    "import pandas as pd\n",
    "import matplotlib.pyplot as plt"
   ]
  },
  {
   "cell_type": "markdown",
   "metadata": {},
   "source": [
    "# Lecture du fichier (1 pt)\n",
    "Lire le fichier datas.csv dans un DataFrame df"
   ]
  },
  {
   "cell_type": "code",
   "execution_count": 2,
   "metadata": {},
   "outputs": [],
   "source": [
    "df=pd.read_csv('meteo.csv')\n"
   ]
  },
  {
   "cell_type": "markdown",
   "metadata": {},
   "source": [
    "# Aperçu du tableau (1 pt)\n",
    "Afficher les 10 première lignes du DataFrame"
   ]
  },
  {
   "cell_type": "code",
   "execution_count": 3,
   "metadata": {},
   "outputs": [
    {
     "data": {
      "text/html": [
       "<div>\n",
       "<style scoped>\n",
       "    .dataframe tbody tr th:only-of-type {\n",
       "        vertical-align: middle;\n",
       "    }\n",
       "\n",
       "    .dataframe tbody tr th {\n",
       "        vertical-align: top;\n",
       "    }\n",
       "\n",
       "    .dataframe thead th {\n",
       "        text-align: right;\n",
       "    }\n",
       "</style>\n",
       "<table border=\"1\" class=\"dataframe\">\n",
       "  <thead>\n",
       "    <tr style=\"text-align: right;\">\n",
       "      <th></th>\n",
       "      <th>Nom</th>\n",
       "      <th>Date</th>\n",
       "      <th>Température</th>\n",
       "      <th>Pression au niveau mer</th>\n",
       "      <th>Humidité</th>\n",
       "    </tr>\n",
       "  </thead>\n",
       "  <tbody>\n",
       "    <tr>\n",
       "      <th>0</th>\n",
       "      <td>TROYES-BARBEREY</td>\n",
       "      <td>2018-08-08</td>\n",
       "      <td>295.5750</td>\n",
       "      <td>101367.50</td>\n",
       "      <td>67.375</td>\n",
       "    </tr>\n",
       "    <tr>\n",
       "      <th>1</th>\n",
       "      <td>ROUEN-BOOS</td>\n",
       "      <td>2018-08-08</td>\n",
       "      <td>292.4250</td>\n",
       "      <td>101316.25</td>\n",
       "      <td>69.250</td>\n",
       "    </tr>\n",
       "    <tr>\n",
       "      <th>2</th>\n",
       "      <td>ORLY</td>\n",
       "      <td>2018-08-08</td>\n",
       "      <td>295.9250</td>\n",
       "      <td>101295.00</td>\n",
       "      <td>57.750</td>\n",
       "    </tr>\n",
       "    <tr>\n",
       "      <th>3</th>\n",
       "      <td>BALE-MULHOUSE</td>\n",
       "      <td>2018-08-08</td>\n",
       "      <td>298.1875</td>\n",
       "      <td>101310.00</td>\n",
       "      <td>61.250</td>\n",
       "    </tr>\n",
       "    <tr>\n",
       "      <th>4</th>\n",
       "      <td>TOULOUSE-BLAGNAC</td>\n",
       "      <td>2018-08-08</td>\n",
       "      <td>297.9750</td>\n",
       "      <td>101370.00</td>\n",
       "      <td>65.375</td>\n",
       "    </tr>\n",
       "    <tr>\n",
       "      <th>5</th>\n",
       "      <td>LA DESIRADE METEO</td>\n",
       "      <td>2018-08-08</td>\n",
       "      <td>302.1000</td>\n",
       "      <td>101712.50</td>\n",
       "      <td>72.000</td>\n",
       "    </tr>\n",
       "    <tr>\n",
       "      <th>6</th>\n",
       "      <td>TOURS</td>\n",
       "      <td>2018-08-08</td>\n",
       "      <td>294.7875</td>\n",
       "      <td>101375.00</td>\n",
       "      <td>62.000</td>\n",
       "    </tr>\n",
       "    <tr>\n",
       "      <th>7</th>\n",
       "      <td>GOURDON</td>\n",
       "      <td>2018-08-08</td>\n",
       "      <td>296.7625</td>\n",
       "      <td>101385.00</td>\n",
       "      <td>62.500</td>\n",
       "    </tr>\n",
       "    <tr>\n",
       "      <th>8</th>\n",
       "      <td>LE RAIZET AERO</td>\n",
       "      <td>2018-08-08</td>\n",
       "      <td>300.7125</td>\n",
       "      <td>101742.50</td>\n",
       "      <td>77.500</td>\n",
       "    </tr>\n",
       "    <tr>\n",
       "      <th>9</th>\n",
       "      <td>NANTES-BOUGUENAIS</td>\n",
       "      <td>2018-08-08</td>\n",
       "      <td>293.7500</td>\n",
       "      <td>101370.00</td>\n",
       "      <td>70.625</td>\n",
       "    </tr>\n",
       "  </tbody>\n",
       "</table>\n",
       "</div>"
      ],
      "text/plain": [
       "                 Nom        Date  Température  Pression au niveau mer  \\\n",
       "0    TROYES-BARBEREY  2018-08-08     295.5750               101367.50   \n",
       "1         ROUEN-BOOS  2018-08-08     292.4250               101316.25   \n",
       "2               ORLY  2018-08-08     295.9250               101295.00   \n",
       "3      BALE-MULHOUSE  2018-08-08     298.1875               101310.00   \n",
       "4   TOULOUSE-BLAGNAC  2018-08-08     297.9750               101370.00   \n",
       "5  LA DESIRADE METEO  2018-08-08     302.1000               101712.50   \n",
       "6              TOURS  2018-08-08     294.7875               101375.00   \n",
       "7            GOURDON  2018-08-08     296.7625               101385.00   \n",
       "8     LE RAIZET AERO  2018-08-08     300.7125               101742.50   \n",
       "9  NANTES-BOUGUENAIS  2018-08-08     293.7500               101370.00   \n",
       "\n",
       "   Humidité  \n",
       "0    67.375  \n",
       "1    69.250  \n",
       "2    57.750  \n",
       "3    61.250  \n",
       "4    65.375  \n",
       "5    72.000  \n",
       "6    62.000  \n",
       "7    62.500  \n",
       "8    77.500  \n",
       "9    70.625  "
      ]
     },
     "execution_count": 3,
     "metadata": {},
     "output_type": "execute_result"
    }
   ],
   "source": [
    "df.head(10)"
   ]
  },
  {
   "cell_type": "markdown",
   "metadata": {},
   "source": [
    "# Nombre de Colonnes (1 pt)\n",
    "Afficher le nombre de colonnes dans le DataFrame"
   ]
  },
  {
   "cell_type": "code",
   "execution_count": 4,
   "metadata": {},
   "outputs": [
    {
     "data": {
      "text/plain": [
       "5"
      ]
     },
     "execution_count": 4,
     "metadata": {},
     "output_type": "execute_result"
    }
   ],
   "source": [
    "df.shape[1]"
   ]
  },
  {
   "cell_type": "markdown",
   "metadata": {},
   "source": [
    "# Nombre de lignes (1 pt)\n",
    "Afficher le nombre de lignes dans le DataFrame"
   ]
  },
  {
   "cell_type": "code",
   "execution_count": 5,
   "metadata": {},
   "outputs": [
    {
     "data": {
      "text/plain": [
       "19545"
      ]
     },
     "execution_count": 5,
     "metadata": {},
     "output_type": "execute_result"
    }
   ],
   "source": [
    "df.shape[0]"
   ]
  },
  {
   "cell_type": "markdown",
   "metadata": {},
   "source": [
    "# Données manquantes (1 pt)\n",
    "Afficher le nombre données manquantes par colonne"
   ]
  },
  {
   "cell_type": "code",
   "execution_count": 6,
   "metadata": {},
   "outputs": [
    {
     "data": {
      "text/plain": [
       "Nom                         0\n",
       "Date                        0\n",
       "Température                76\n",
       "Pression au niveau mer    929\n",
       "Humidité                  176\n",
       "dtype: int64"
      ]
     },
     "execution_count": 6,
     "metadata": {},
     "output_type": "execute_result"
    }
   ],
   "source": [
    "df.isnull().sum()"
   ]
  },
  {
   "cell_type": "markdown",
   "metadata": {},
   "source": [
    "# Suppression des manquants (1 pt)\n",
    "Supprimer les lignes contenant des données manquantes"
   ]
  },
  {
   "cell_type": "code",
   "execution_count": 7,
   "metadata": {},
   "outputs": [
    {
     "data": {
      "text/plain": [
       "(18616, 5)"
      ]
     },
     "execution_count": 7,
     "metadata": {},
     "output_type": "execute_result"
    }
   ],
   "source": [
    "df.dropna(axis=0,how='any',inplace=True)\n",
    "df.shape"
   ]
  },
  {
   "cell_type": "markdown",
   "metadata": {},
   "source": [
    "# Tri par nom et par date (2 pts)\n",
    "Trier le DataFrame par nom et par date"
   ]
  },
  {
   "cell_type": "code",
   "execution_count": 8,
   "metadata": {},
   "outputs": [
    {
     "data": {
      "text/html": [
       "<div>\n",
       "<style scoped>\n",
       "    .dataframe tbody tr th:only-of-type {\n",
       "        vertical-align: middle;\n",
       "    }\n",
       "\n",
       "    .dataframe tbody tr th {\n",
       "        vertical-align: top;\n",
       "    }\n",
       "\n",
       "    .dataframe thead th {\n",
       "        text-align: right;\n",
       "    }\n",
       "</style>\n",
       "<table border=\"1\" class=\"dataframe\">\n",
       "  <thead>\n",
       "    <tr style=\"text-align: right;\">\n",
       "      <th></th>\n",
       "      <th>Nom</th>\n",
       "      <th>Date</th>\n",
       "      <th>Température</th>\n",
       "      <th>Pression au niveau mer</th>\n",
       "      <th>Humidité</th>\n",
       "    </tr>\n",
       "  </thead>\n",
       "  <tbody>\n",
       "    <tr>\n",
       "      <th>2116</th>\n",
       "      <td>ABBEVILLE</td>\n",
       "      <td>2018-01-01</td>\n",
       "      <td>280.2625</td>\n",
       "      <td>100145.00</td>\n",
       "      <td>82.00</td>\n",
       "    </tr>\n",
       "    <tr>\n",
       "      <th>1064</th>\n",
       "      <td>ABBEVILLE</td>\n",
       "      <td>2018-01-02</td>\n",
       "      <td>277.8375</td>\n",
       "      <td>100348.75</td>\n",
       "      <td>77.00</td>\n",
       "    </tr>\n",
       "    <tr>\n",
       "      <th>1799</th>\n",
       "      <td>ABBEVILLE</td>\n",
       "      <td>2018-01-03</td>\n",
       "      <td>270.7250</td>\n",
       "      <td>99900.00</td>\n",
       "      <td>58.25</td>\n",
       "    </tr>\n",
       "    <tr>\n",
       "      <th>6787</th>\n",
       "      <td>ABBEVILLE</td>\n",
       "      <td>2018-01-04</td>\n",
       "      <td>279.9125</td>\n",
       "      <td>101096.25</td>\n",
       "      <td>77.50</td>\n",
       "    </tr>\n",
       "    <tr>\n",
       "      <th>6188</th>\n",
       "      <td>ABBEVILLE</td>\n",
       "      <td>2018-01-05</td>\n",
       "      <td>281.8000</td>\n",
       "      <td>101203.75</td>\n",
       "      <td>75.50</td>\n",
       "    </tr>\n",
       "  </tbody>\n",
       "</table>\n",
       "</div>"
      ],
      "text/plain": [
       "            Nom        Date  Température  Pression au niveau mer  Humidité\n",
       "2116  ABBEVILLE  2018-01-01     280.2625               100145.00     82.00\n",
       "1064  ABBEVILLE  2018-01-02     277.8375               100348.75     77.00\n",
       "1799  ABBEVILLE  2018-01-03     270.7250                99900.00     58.25\n",
       "6787  ABBEVILLE  2018-01-04     279.9125               101096.25     77.50\n",
       "6188  ABBEVILLE  2018-01-05     281.8000               101203.75     75.50"
      ]
     },
     "execution_count": 8,
     "metadata": {},
     "output_type": "execute_result"
    }
   ],
   "source": [
    "df.sort_values(axis=0,by=['Nom','Date'],inplace=True)\n",
    "df.head()"
   ]
  },
  {
   "cell_type": "markdown",
   "metadata": {},
   "source": [
    "# Passage en degrés Celsius (1 pt)\n",
    "Transformer les températures en Kelvin en température en degrés Celsius\n",
    "\n",
    "    pour rappel : T(K) = T(°C) + 273.15"
   ]
  },
  {
   "cell_type": "code",
   "execution_count": 9,
   "metadata": {},
   "outputs": [
    {
     "data": {
      "text/html": [
       "<div>\n",
       "<style scoped>\n",
       "    .dataframe tbody tr th:only-of-type {\n",
       "        vertical-align: middle;\n",
       "    }\n",
       "\n",
       "    .dataframe tbody tr th {\n",
       "        vertical-align: top;\n",
       "    }\n",
       "\n",
       "    .dataframe thead th {\n",
       "        text-align: right;\n",
       "    }\n",
       "</style>\n",
       "<table border=\"1\" class=\"dataframe\">\n",
       "  <thead>\n",
       "    <tr style=\"text-align: right;\">\n",
       "      <th></th>\n",
       "      <th>Nom</th>\n",
       "      <th>Date</th>\n",
       "      <th>Température</th>\n",
       "      <th>Pression au niveau mer</th>\n",
       "      <th>Humidité</th>\n",
       "    </tr>\n",
       "  </thead>\n",
       "  <tbody>\n",
       "    <tr>\n",
       "      <th>2116</th>\n",
       "      <td>ABBEVILLE</td>\n",
       "      <td>2018-01-01</td>\n",
       "      <td>7.1125</td>\n",
       "      <td>100145.00</td>\n",
       "      <td>82.00</td>\n",
       "    </tr>\n",
       "    <tr>\n",
       "      <th>1064</th>\n",
       "      <td>ABBEVILLE</td>\n",
       "      <td>2018-01-02</td>\n",
       "      <td>4.6875</td>\n",
       "      <td>100348.75</td>\n",
       "      <td>77.00</td>\n",
       "    </tr>\n",
       "    <tr>\n",
       "      <th>1799</th>\n",
       "      <td>ABBEVILLE</td>\n",
       "      <td>2018-01-03</td>\n",
       "      <td>-2.4250</td>\n",
       "      <td>99900.00</td>\n",
       "      <td>58.25</td>\n",
       "    </tr>\n",
       "    <tr>\n",
       "      <th>6787</th>\n",
       "      <td>ABBEVILLE</td>\n",
       "      <td>2018-01-04</td>\n",
       "      <td>6.7625</td>\n",
       "      <td>101096.25</td>\n",
       "      <td>77.50</td>\n",
       "    </tr>\n",
       "    <tr>\n",
       "      <th>6188</th>\n",
       "      <td>ABBEVILLE</td>\n",
       "      <td>2018-01-05</td>\n",
       "      <td>8.6500</td>\n",
       "      <td>101203.75</td>\n",
       "      <td>75.50</td>\n",
       "    </tr>\n",
       "  </tbody>\n",
       "</table>\n",
       "</div>"
      ],
      "text/plain": [
       "            Nom        Date  Température  Pression au niveau mer  Humidité\n",
       "2116  ABBEVILLE  2018-01-01       7.1125               100145.00     82.00\n",
       "1064  ABBEVILLE  2018-01-02       4.6875               100348.75     77.00\n",
       "1799  ABBEVILLE  2018-01-03      -2.4250                99900.00     58.25\n",
       "6787  ABBEVILLE  2018-01-04       6.7625               101096.25     77.50\n",
       "6188  ABBEVILLE  2018-01-05       8.6500               101203.75     75.50"
      ]
     },
     "execution_count": 9,
     "metadata": {},
     "output_type": "execute_result"
    }
   ],
   "source": [
    "df.Température = df.Température.apply(lambda x: x-273.15)\n",
    "df.head()"
   ]
  },
  {
   "cell_type": "markdown",
   "metadata": {},
   "source": [
    "# Création de l'indice THI (1 pt)\n",
    "Créer une nouvelle colonne nommée THI (Temperature Humidity Index) calculée de la façon suivante :\n",
    "    \n",
    "    THI = T - ((0.55 - 0.0055*H) * (T - 14.5))\n",
    "    avec T : Température en °C\n",
    "    et H : Humidité relative en %"
   ]
  },
  {
   "cell_type": "code",
   "execution_count": 10,
   "metadata": {},
   "outputs": [
    {
     "data": {
      "text/html": [
       "<div>\n",
       "<style scoped>\n",
       "    .dataframe tbody tr th:only-of-type {\n",
       "        vertical-align: middle;\n",
       "    }\n",
       "\n",
       "    .dataframe tbody tr th {\n",
       "        vertical-align: top;\n",
       "    }\n",
       "\n",
       "    .dataframe thead th {\n",
       "        text-align: right;\n",
       "    }\n",
       "</style>\n",
       "<table border=\"1\" class=\"dataframe\">\n",
       "  <thead>\n",
       "    <tr style=\"text-align: right;\">\n",
       "      <th></th>\n",
       "      <th>Nom</th>\n",
       "      <th>Date</th>\n",
       "      <th>Température</th>\n",
       "      <th>Pression au niveau mer</th>\n",
       "      <th>Humidité</th>\n",
       "      <th>THI</th>\n",
       "    </tr>\n",
       "  </thead>\n",
       "  <tbody>\n",
       "    <tr>\n",
       "      <th>2116</th>\n",
       "      <td>ABBEVILLE</td>\n",
       "      <td>2018-01-01</td>\n",
       "      <td>7.1125</td>\n",
       "      <td>100145.00</td>\n",
       "      <td>82.00</td>\n",
       "      <td>7.843863</td>\n",
       "    </tr>\n",
       "    <tr>\n",
       "      <th>1064</th>\n",
       "      <td>ABBEVILLE</td>\n",
       "      <td>2018-01-02</td>\n",
       "      <td>4.6875</td>\n",
       "      <td>100348.75</td>\n",
       "      <td>77.00</td>\n",
       "      <td>5.928781</td>\n",
       "    </tr>\n",
       "    <tr>\n",
       "      <th>1799</th>\n",
       "      <td>ABBEVILLE</td>\n",
       "      <td>2018-01-03</td>\n",
       "      <td>-2.4250</td>\n",
       "      <td>99900.00</td>\n",
       "      <td>58.25</td>\n",
       "      <td>1.461403</td>\n",
       "    </tr>\n",
       "    <tr>\n",
       "      <th>6787</th>\n",
       "      <td>ABBEVILLE</td>\n",
       "      <td>2018-01-04</td>\n",
       "      <td>6.7625</td>\n",
       "      <td>101096.25</td>\n",
       "      <td>77.50</td>\n",
       "      <td>7.720016</td>\n",
       "    </tr>\n",
       "    <tr>\n",
       "      <th>6188</th>\n",
       "      <td>ABBEVILLE</td>\n",
       "      <td>2018-01-05</td>\n",
       "      <td>8.6500</td>\n",
       "      <td>101203.75</td>\n",
       "      <td>75.50</td>\n",
       "      <td>9.438288</td>\n",
       "    </tr>\n",
       "  </tbody>\n",
       "</table>\n",
       "</div>"
      ],
      "text/plain": [
       "            Nom        Date  Température  Pression au niveau mer  Humidité  \\\n",
       "2116  ABBEVILLE  2018-01-01       7.1125               100145.00     82.00   \n",
       "1064  ABBEVILLE  2018-01-02       4.6875               100348.75     77.00   \n",
       "1799  ABBEVILLE  2018-01-03      -2.4250                99900.00     58.25   \n",
       "6787  ABBEVILLE  2018-01-04       6.7625               101096.25     77.50   \n",
       "6188  ABBEVILLE  2018-01-05       8.6500               101203.75     75.50   \n",
       "\n",
       "           THI  \n",
       "2116  7.843863  \n",
       "1064  5.928781  \n",
       "1799  1.461403  \n",
       "6787  7.720016  \n",
       "6188  9.438288  "
      ]
     },
     "execution_count": 10,
     "metadata": {},
     "output_type": "execute_result"
    }
   ],
   "source": [
    "df['THI']=df.Température -((0.55-0.0055*df.Humidité)*(df.Température-14.5))\n",
    "df.head()"
   ]
  },
  {
   "cell_type": "markdown",
   "metadata": {},
   "source": [
    "# Température moyenne (2 pts)\n",
    "Donner la température moyenne par ville"
   ]
  },
  {
   "cell_type": "code",
   "execution_count": 12,
   "metadata": {
    "scrolled": true
   },
   "outputs": [
    {
     "data": {
      "text/plain": [
       "Nom\n",
       "ABBEVILLE        11.304258\n",
       "AJACCIO          16.558680\n",
       "ALENCON          11.457674\n",
       "BALE-MULHOUSE    11.914379\n",
       "BASTIA           16.537162\n",
       "Name: Température, dtype: float64"
      ]
     },
     "execution_count": 12,
     "metadata": {},
     "output_type": "execute_result"
    }
   ],
   "source": [
    "df.groupby(['Nom']).Température.mean().head()"
   ]
  },
  {
   "cell_type": "markdown",
   "metadata": {},
   "source": [
    "# Nombre de jours plus chauds que la moyenne à Orly (3 pts)\n",
    "Donner, pour Orly, le nombre de jours avec une température supérieure à la température moyenne d'Orly"
   ]
  },
  {
   "cell_type": "code",
   "execution_count": 40,
   "metadata": {},
   "outputs": [
    {
     "data": {
      "text/plain": [
       "12.621875172034166"
      ]
     },
     "execution_count": 40,
     "metadata": {},
     "output_type": "execute_result"
    }
   ],
   "source": [
    "moyenne_Orly=df.groupby(['Nom']).Température.mean().loc['ORLY']\n",
    "moyenne_Orly"
   ]
  },
  {
   "cell_type": "code",
   "execution_count": 41,
   "metadata": {},
   "outputs": [
    {
     "data": {
      "text/plain": [
       "166"
      ]
     },
     "execution_count": 41,
     "metadata": {},
     "output_type": "execute_result"
    }
   ],
   "source": [
    "(df.loc[(df['Nom']==\"ORLY\") & (df['Température']>moyenne_Orly)]).shape[0]"
   ]
  },
  {
   "cell_type": "markdown",
   "metadata": {},
   "source": [
    "# Visualisation (2 pts)\n",
    "Tracer le boxplot des valeurs de température à Orly"
   ]
  },
  {
   "cell_type": "code",
   "execution_count": 68,
   "metadata": {},
   "outputs": [
    {
     "ename": "TypeError",
     "evalue": "list indices must be integers or slices, not str",
     "output_type": "error",
     "traceback": [
      "\u001b[1;31m---------------------------------------------------------------------------\u001b[0m",
      "\u001b[1;31mTypeError\u001b[0m                                 Traceback (most recent call last)",
      "\u001b[1;32m<ipython-input-68-cde8da7ee97d>\u001b[0m in \u001b[0;36m<module>\u001b[1;34m\u001b[0m\n\u001b[0;32m      1\u001b[0m \u001b[0mfig\u001b[0m\u001b[1;33m=\u001b[0m\u001b[0mplt\u001b[0m\u001b[1;33m.\u001b[0m\u001b[0mfigure\u001b[0m\u001b[1;33m(\u001b[0m\u001b[0mfigsize\u001b[0m\u001b[1;33m=\u001b[0m\u001b[1;33m(\u001b[0m\u001b[1;36m8\u001b[0m\u001b[1;33m,\u001b[0m\u001b[1;36m6\u001b[0m\u001b[1;33m)\u001b[0m\u001b[1;33m)\u001b[0m\u001b[1;33m\u001b[0m\u001b[1;33m\u001b[0m\u001b[0m\n\u001b[0;32m      2\u001b[0m \u001b[0max1\u001b[0m\u001b[1;33m=\u001b[0m\u001b[0mfig\u001b[0m\u001b[1;33m.\u001b[0m\u001b[0mgca\u001b[0m\u001b[1;33m(\u001b[0m\u001b[1;33m)\u001b[0m\u001b[1;33m\u001b[0m\u001b[1;33m\u001b[0m\u001b[0m\n\u001b[1;32m----> 3\u001b[1;33m \u001b[1;33m(\u001b[0m\u001b[0mdf\u001b[0m\u001b[1;33m[\u001b[0m\u001b[1;33m[\u001b[0m\u001b[1;34m'Température'\u001b[0m\u001b[1;33m]\u001b[0m\u001b[1;33m[\u001b[0m\u001b[1;34m'Nom'\u001b[0m\u001b[1;33m]\u001b[0m\u001b[1;33m]\u001b[0m\u001b[1;33m)\u001b[0m\u001b[1;33m.\u001b[0m\u001b[0mboxplot\u001b[0m\u001b[1;33m(\u001b[0m\u001b[0max\u001b[0m\u001b[1;33m=\u001b[0m\u001b[0max1\u001b[0m\u001b[1;33m)\u001b[0m\u001b[1;33m\u001b[0m\u001b[1;33m\u001b[0m\u001b[0m\n\u001b[0m\u001b[0;32m      4\u001b[0m \u001b[0mplt\u001b[0m\u001b[1;33m.\u001b[0m\u001b[0mxlabel\u001b[0m\u001b[1;33m(\u001b[0m\u001b[1;34m'Orly'\u001b[0m\u001b[1;33m)\u001b[0m\u001b[1;33m\u001b[0m\u001b[1;33m\u001b[0m\u001b[0m\n\u001b[0;32m      5\u001b[0m \u001b[0mplt\u001b[0m\u001b[1;33m.\u001b[0m\u001b[0mylabel\u001b[0m\u001b[1;33m(\u001b[0m\u001b[1;34m'Température'\u001b[0m\u001b[1;33m)\u001b[0m\u001b[1;33m\u001b[0m\u001b[1;33m\u001b[0m\u001b[0m\n",
      "\u001b[1;31mTypeError\u001b[0m: list indices must be integers or slices, not str"
     ]
    },
    {
     "data": {
      "image/png": "[encoded data removed]",
      "text/plain": [
       "<Figure size 576x432 with 1 Axes>"
      ]
     },
     "metadata": {
      "needs_background": "light"
     },
     "output_type": "display_data"
    }
   ],
   "source": [
    "fig=plt.figure(figsize=(8,6))\n",
    "ax1=fig.gca()\n",
    "(df[['Température']['Nom']]).boxplot(ax=ax1)\n",
    "plt.xlabel('Orly')\n",
    "plt.ylabel('Température')\n",
    "plt.title('valeurs de température à Orly')\n",
    "plt.show()"
   ]
  },
  {
   "cell_type": "markdown",
   "metadata": {},
   "source": [
    "# Classe (3 pts)\n",
    "Créer une classe s'initialisant avec le DataFrame meteo.csv et proposant deux méthodes.\n",
    "La première prend en argument un nom de ville et renvoie la température moyenne dans cette ville.\n",
    "La seconde prend en argument une température et renvoie le nombre de villes pour lesquelles la température moyenne est supérieure à la température passée en argument de la méthode."
   ]
  },
  {
   "cell_type": "code",
   "execution_count": 95,
   "metadata": {},
   "outputs": [
    {
     "ename": "IndentationError",
     "evalue": "unindent does not match any outer indentation level (<tokenize>, line 32)",
     "output_type": "error",
     "traceback": [
      "\u001b[1;36m  File \u001b[1;32m\"<tokenize>\"\u001b[1;36m, line \u001b[1;32m32\u001b[0m\n\u001b[1;33m    self.t=t\u001b[0m\n\u001b[1;37m    ^\u001b[0m\n\u001b[1;31mIndentationError\u001b[0m\u001b[1;31m:\u001b[0m unindent does not match any outer indentation level\n"
     ]
    }
   ],
   "source": [
    "class Myclass():\n",
    "    \"\"\" \n",
    "    \"\"\"\n",
    "    def __init__(self,df):\n",
    "        self.df=df\n",
    "    def first_meth(self,nom):\n",
    "        \"\"\"\n",
    "        Retourne la température moyenne de la ville 'nom'\n",
    "\n",
    "        Parameters:\n",
    "        df (DataFrame): DataFrame des votes\n",
    "        nom: nom de la ville à la quelle on souhaite connaitre la moyenne de la température\n",
    "\n",
    "        Returns:\n",
    "        float: température en celcius\n",
    "        \"\"\"\n",
    "        self.nom=nom\n",
    "        moyenne=self.df.groupby(['Nom']).Température.mean().loc[nom]\n",
    "        return moyenne\n",
    "    def second_meth(self,t):\n",
    "         \"\"\"\n",
    "        Retourne la ville où la température moyenne est sup à t\n",
    "\n",
    "        Parameters:\n",
    "        df (DataFrame): DataFrame des votes\n",
    "        t:température donnée\n",
    "\n",
    "        Returns:\n",
    "        string: nom des villes\n",
    "        \"\"\"\n",
    "        \n",
    "        self.t=t\n",
    "        return (self.df['Température']>t).shape[0]\n",
    "        for self.df.nom in df : \n",
    "            if first_meth(self.df.nom) > t : \n",
    "                return self.df.nom\n",
    "        \n",
    "    \n",
    "        "
   ]
  },
  {
   "cell_type": "code",
   "execution_count": 85,
   "metadata": {},
   "outputs": [],
   "source": [
    "classe=Myclass(df)"
   ]
  },
  {
   "cell_type": "code",
   "execution_count": 90,
   "metadata": {},
   "outputs": [
    {
     "data": {
      "text/plain": [
       "12.621875172034166"
      ]
     },
     "execution_count": 90,
     "metadata": {},
     "output_type": "execute_result"
    }
   ],
   "source": [
    "classe.first_meth('ORLY')"
   ]
  },
  {
   "cell_type": "code",
   "execution_count": 93,
   "metadata": {},
   "outputs": [
    {
     "data": {
      "text/plain": [
       "18616"
      ]
     },
     "execution_count": 93,
     "metadata": {},
     "output_type": "execute_result"
    }
   ],
   "source": [
    "classe.second_meth(40)"
   ]
  },
  {
   "cell_type": "code",
   "execution_count": null,
   "metadata": {},
   "outputs": [],
   "source": []
  }
 ],
 "metadata": {
  "kernelspec": {
   "display_name": "Python 3",
   "language": "python",
   "name": "python3"
  },
  "language_info": {
   "codemirror_mode": {
    "name": "ipython",
    "version": 3
   },
   "file_extension": ".py",
   "mimetype": "text/x-python",
   "name": "python",
   "nbconvert_exporter": "python",
   "pygments_lexer": "ipython3",
   "version": "3.7.3"
  }
 },
 "nbformat": 4,
 "nbformat_minor": 2
}
