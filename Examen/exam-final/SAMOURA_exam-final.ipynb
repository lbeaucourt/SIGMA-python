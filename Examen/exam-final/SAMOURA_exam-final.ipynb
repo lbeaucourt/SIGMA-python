{
 "cells": [
  {
   "cell_type": "markdown",
   "metadata": {},
   "source": [
    "# Introduction"
   ]
  },
  {
   "cell_type": "markdown",
   "metadata": {},
   "source": [
    "Cet examen se base sur les données météo france de 2018"
   ]
  },
  {
   "cell_type": "markdown",
   "metadata": {},
   "source": [
    "# Import des modules"
   ]
  },
  {
   "cell_type": "code",
   "execution_count": 119,
   "metadata": {},
   "outputs": [],
   "source": [
    "import numpy as np\n",
    "import pandas as pd\n",
    "import matplotlib.pyplot as plt"
   ]
  },
  {
   "cell_type": "markdown",
   "metadata": {},
   "source": [
    "# Lecture du fichier (1 pt)\n",
    "Lire le fichier datas.csv dans un DataFrame df"
   ]
  },
  {
   "cell_type": "code",
   "execution_count": 120,
   "metadata": {},
   "outputs": [],
   "source": [
    "df = pd.read_csv(\"meteo.csv\")#,index_col = 0)"
   ]
  },
  {
   "cell_type": "markdown",
   "metadata": {},
   "source": [
    "# Aperçu du tableau (1 pt)\n",
    "Afficher les 10 première lignes du DataFrame"
   ]
  },
  {
   "cell_type": "code",
   "execution_count": 121,
   "metadata": {},
   "outputs": [
    {
     "data": {
      "text/html": [
       "<div>\n",
       "<style scoped>\n",
       "    .dataframe tbody tr th:only-of-type {\n",
       "        vertical-align: middle;\n",
       "    }\n",
       "\n",
       "    .dataframe tbody tr th {\n",
       "        vertical-align: top;\n",
       "    }\n",
       "\n",
       "    .dataframe thead th {\n",
       "        text-align: right;\n",
       "    }\n",
       "</style>\n",
       "<table border=\"1\" class=\"dataframe\">\n",
       "  <thead>\n",
       "    <tr style=\"text-align: right;\">\n",
       "      <th></th>\n",
       "      <th>Nom</th>\n",
       "      <th>Date</th>\n",
       "      <th>Température</th>\n",
       "      <th>Pression au niveau mer</th>\n",
       "      <th>Humidité</th>\n",
       "    </tr>\n",
       "  </thead>\n",
       "  <tbody>\n",
       "    <tr>\n",
       "      <th>0</th>\n",
       "      <td>TROYES-BARBEREY</td>\n",
       "      <td>2018-08-08</td>\n",
       "      <td>295.5750</td>\n",
       "      <td>101367.50</td>\n",
       "      <td>67.375</td>\n",
       "    </tr>\n",
       "    <tr>\n",
       "      <th>1</th>\n",
       "      <td>ROUEN-BOOS</td>\n",
       "      <td>2018-08-08</td>\n",
       "      <td>292.4250</td>\n",
       "      <td>101316.25</td>\n",
       "      <td>69.250</td>\n",
       "    </tr>\n",
       "    <tr>\n",
       "      <th>2</th>\n",
       "      <td>ORLY</td>\n",
       "      <td>2018-08-08</td>\n",
       "      <td>295.9250</td>\n",
       "      <td>101295.00</td>\n",
       "      <td>57.750</td>\n",
       "    </tr>\n",
       "    <tr>\n",
       "      <th>3</th>\n",
       "      <td>BALE-MULHOUSE</td>\n",
       "      <td>2018-08-08</td>\n",
       "      <td>298.1875</td>\n",
       "      <td>101310.00</td>\n",
       "      <td>61.250</td>\n",
       "    </tr>\n",
       "    <tr>\n",
       "      <th>4</th>\n",
       "      <td>TOULOUSE-BLAGNAC</td>\n",
       "      <td>2018-08-08</td>\n",
       "      <td>297.9750</td>\n",
       "      <td>101370.00</td>\n",
       "      <td>65.375</td>\n",
       "    </tr>\n",
       "    <tr>\n",
       "      <th>5</th>\n",
       "      <td>LA DESIRADE METEO</td>\n",
       "      <td>2018-08-08</td>\n",
       "      <td>302.1000</td>\n",
       "      <td>101712.50</td>\n",
       "      <td>72.000</td>\n",
       "    </tr>\n",
       "    <tr>\n",
       "      <th>6</th>\n",
       "      <td>TOURS</td>\n",
       "      <td>2018-08-08</td>\n",
       "      <td>294.7875</td>\n",
       "      <td>101375.00</td>\n",
       "      <td>62.000</td>\n",
       "    </tr>\n",
       "    <tr>\n",
       "      <th>7</th>\n",
       "      <td>GOURDON</td>\n",
       "      <td>2018-08-08</td>\n",
       "      <td>296.7625</td>\n",
       "      <td>101385.00</td>\n",
       "      <td>62.500</td>\n",
       "    </tr>\n",
       "    <tr>\n",
       "      <th>8</th>\n",
       "      <td>LE RAIZET AERO</td>\n",
       "      <td>2018-08-08</td>\n",
       "      <td>300.7125</td>\n",
       "      <td>101742.50</td>\n",
       "      <td>77.500</td>\n",
       "    </tr>\n",
       "    <tr>\n",
       "      <th>9</th>\n",
       "      <td>NANTES-BOUGUENAIS</td>\n",
       "      <td>2018-08-08</td>\n",
       "      <td>293.7500</td>\n",
       "      <td>101370.00</td>\n",
       "      <td>70.625</td>\n",
       "    </tr>\n",
       "  </tbody>\n",
       "</table>\n",
       "</div>"
      ],
      "text/plain": [
       "                 Nom        Date  Température  Pression au niveau mer  \\\n",
       "0    TROYES-BARBEREY  2018-08-08     295.5750               101367.50   \n",
       "1         ROUEN-BOOS  2018-08-08     292.4250               101316.25   \n",
       "2               ORLY  2018-08-08     295.9250               101295.00   \n",
       "3      BALE-MULHOUSE  2018-08-08     298.1875               101310.00   \n",
       "4   TOULOUSE-BLAGNAC  2018-08-08     297.9750               101370.00   \n",
       "5  LA DESIRADE METEO  2018-08-08     302.1000               101712.50   \n",
       "6              TOURS  2018-08-08     294.7875               101375.00   \n",
       "7            GOURDON  2018-08-08     296.7625               101385.00   \n",
       "8     LE RAIZET AERO  2018-08-08     300.7125               101742.50   \n",
       "9  NANTES-BOUGUENAIS  2018-08-08     293.7500               101370.00   \n",
       "\n",
       "   Humidité  \n",
       "0    67.375  \n",
       "1    69.250  \n",
       "2    57.750  \n",
       "3    61.250  \n",
       "4    65.375  \n",
       "5    72.000  \n",
       "6    62.000  \n",
       "7    62.500  \n",
       "8    77.500  \n",
       "9    70.625  "
      ]
     },
     "execution_count": 121,
     "metadata": {},
     "output_type": "execute_result"
    }
   ],
   "source": [
    "df.head(10)"
   ]
  },
  {
   "cell_type": "markdown",
   "metadata": {},
   "source": [
    "# Nombre de Colonnes (1 pt)\n",
    "Afficher le nombre de colonnes dans le DataFrame"
   ]
  },
  {
   "cell_type": "code",
   "execution_count": 122,
   "metadata": {},
   "outputs": [
    {
     "data": {
      "text/plain": [
       "5"
      ]
     },
     "execution_count": 122,
     "metadata": {},
     "output_type": "execute_result"
    }
   ],
   "source": [
    "df.columns #Nous donne la liste des colonnes\n",
    "n,p = df.shape #Nous donne le nombre de lignes dans n et le nombre de colonnes dans p et on affiche p\n",
    "p"
   ]
  },
  {
   "cell_type": "markdown",
   "metadata": {},
   "source": [
    "# Nombre de lignes (1 pt)\n",
    "Afficher le nombre de lignes dans le DataFrame"
   ]
  },
  {
   "cell_type": "code",
   "execution_count": 123,
   "metadata": {},
   "outputs": [
    {
     "data": {
      "text/plain": [
       "19545"
      ]
     },
     "execution_count": 123,
     "metadata": {},
     "output_type": "execute_result"
    }
   ],
   "source": [
    "df.index #donne la liste des ligne\n",
    "len(df) #Donne le nombre de ligne"
   ]
  },
  {
   "cell_type": "markdown",
   "metadata": {},
   "source": [
    "# Données manquantes (1 pt)\n",
    "Afficher le nombre données manquantes par colonne"
   ]
  },
  {
   "cell_type": "code",
   "execution_count": 124,
   "metadata": {},
   "outputs": [
    {
     "data": {
      "text/plain": [
       "Nom                         0\n",
       "Date                        0\n",
       "Température                76\n",
       "Pression au niveau mer    929\n",
       "Humidité                  176\n",
       "dtype: int64"
      ]
     },
     "execution_count": 124,
     "metadata": {},
     "output_type": "execute_result"
    }
   ],
   "source": [
    "len(df) - df.count() #df.count() donnne le nombre de valeurs renseignées par colonne et la difference nous donne le nombre de valeurs manquantes"
   ]
  },
  {
   "cell_type": "markdown",
   "metadata": {},
   "source": [
    "# Suppression des manquants (1 pt)\n",
    "Supprimer les lignes contenant des données manquantes"
   ]
  },
  {
   "cell_type": "code",
   "execution_count": 125,
   "metadata": {},
   "outputs": [],
   "source": [
    "df.dropna(inplace=True)"
   ]
  },
  {
   "cell_type": "code",
   "execution_count": 126,
   "metadata": {},
   "outputs": [
    {
     "data": {
      "text/plain": [
       "(18616, 5)"
      ]
     },
     "execution_count": 126,
     "metadata": {},
     "output_type": "execute_result"
    }
   ],
   "source": [
    "df.shape #Nous permet de vérifier que le nombre de lignes a bien été changé donc les lignes ont bien été supprimées"
   ]
  },
  {
   "cell_type": "markdown",
   "metadata": {},
   "source": [
    "# Tri par nom et par date (2 pts)\n",
    "Trier le DataFrame par nom et par date"
   ]
  },
  {
   "cell_type": "code",
   "execution_count": 127,
   "metadata": {},
   "outputs": [],
   "source": [
    "df.sort_values(by=['Nom','Date'],inplace=True)"
   ]
  },
  {
   "cell_type": "code",
   "execution_count": 128,
   "metadata": {},
   "outputs": [
    {
     "data": {
      "text/html": [
       "<div>\n",
       "<style scoped>\n",
       "    .dataframe tbody tr th:only-of-type {\n",
       "        vertical-align: middle;\n",
       "    }\n",
       "\n",
       "    .dataframe tbody tr th {\n",
       "        vertical-align: top;\n",
       "    }\n",
       "\n",
       "    .dataframe thead th {\n",
       "        text-align: right;\n",
       "    }\n",
       "</style>\n",
       "<table border=\"1\" class=\"dataframe\">\n",
       "  <thead>\n",
       "    <tr style=\"text-align: right;\">\n",
       "      <th></th>\n",
       "      <th>Nom</th>\n",
       "      <th>Date</th>\n",
       "      <th>Température</th>\n",
       "      <th>Pression au niveau mer</th>\n",
       "      <th>Humidité</th>\n",
       "    </tr>\n",
       "  </thead>\n",
       "  <tbody>\n",
       "    <tr>\n",
       "      <th>2116</th>\n",
       "      <td>ABBEVILLE</td>\n",
       "      <td>2018-01-01</td>\n",
       "      <td>280.2625</td>\n",
       "      <td>100145.00</td>\n",
       "      <td>82.00</td>\n",
       "    </tr>\n",
       "    <tr>\n",
       "      <th>1064</th>\n",
       "      <td>ABBEVILLE</td>\n",
       "      <td>2018-01-02</td>\n",
       "      <td>277.8375</td>\n",
       "      <td>100348.75</td>\n",
       "      <td>77.00</td>\n",
       "    </tr>\n",
       "    <tr>\n",
       "      <th>1799</th>\n",
       "      <td>ABBEVILLE</td>\n",
       "      <td>2018-01-03</td>\n",
       "      <td>270.7250</td>\n",
       "      <td>99900.00</td>\n",
       "      <td>58.25</td>\n",
       "    </tr>\n",
       "    <tr>\n",
       "      <th>6787</th>\n",
       "      <td>ABBEVILLE</td>\n",
       "      <td>2018-01-04</td>\n",
       "      <td>279.9125</td>\n",
       "      <td>101096.25</td>\n",
       "      <td>77.50</td>\n",
       "    </tr>\n",
       "    <tr>\n",
       "      <th>6188</th>\n",
       "      <td>ABBEVILLE</td>\n",
       "      <td>2018-01-05</td>\n",
       "      <td>281.8000</td>\n",
       "      <td>101203.75</td>\n",
       "      <td>75.50</td>\n",
       "    </tr>\n",
       "  </tbody>\n",
       "</table>\n",
       "</div>"
      ],
      "text/plain": [
       "            Nom        Date  Température  Pression au niveau mer  Humidité\n",
       "2116  ABBEVILLE  2018-01-01     280.2625               100145.00     82.00\n",
       "1064  ABBEVILLE  2018-01-02     277.8375               100348.75     77.00\n",
       "1799  ABBEVILLE  2018-01-03     270.7250                99900.00     58.25\n",
       "6787  ABBEVILLE  2018-01-04     279.9125               101096.25     77.50\n",
       "6188  ABBEVILLE  2018-01-05     281.8000               101203.75     75.50"
      ]
     },
     "execution_count": 128,
     "metadata": {},
     "output_type": "execute_result"
    }
   ],
   "source": [
    "df.head() #Nous permet de voir que le trie a bien été effectué"
   ]
  },
  {
   "cell_type": "markdown",
   "metadata": {},
   "source": [
    "# Passage en degrés Celsius (1 pt)\n",
    "Transformer les températures en Kelvin en température en degrés Celsius\n",
    "\n",
    "    pour rappel : T(K) = T(°C) + 273.15"
   ]
  },
  {
   "cell_type": "code",
   "execution_count": 129,
   "metadata": {},
   "outputs": [],
   "source": [
    "df['Température']=df.Température - 273.15"
   ]
  },
  {
   "cell_type": "code",
   "execution_count": 130,
   "metadata": {},
   "outputs": [
    {
     "data": {
      "text/html": [
       "<div>\n",
       "<style scoped>\n",
       "    .dataframe tbody tr th:only-of-type {\n",
       "        vertical-align: middle;\n",
       "    }\n",
       "\n",
       "    .dataframe tbody tr th {\n",
       "        vertical-align: top;\n",
       "    }\n",
       "\n",
       "    .dataframe thead th {\n",
       "        text-align: right;\n",
       "    }\n",
       "</style>\n",
       "<table border=\"1\" class=\"dataframe\">\n",
       "  <thead>\n",
       "    <tr style=\"text-align: right;\">\n",
       "      <th></th>\n",
       "      <th>Nom</th>\n",
       "      <th>Date</th>\n",
       "      <th>Température</th>\n",
       "      <th>Pression au niveau mer</th>\n",
       "      <th>Humidité</th>\n",
       "    </tr>\n",
       "  </thead>\n",
       "  <tbody>\n",
       "    <tr>\n",
       "      <th>2116</th>\n",
       "      <td>ABBEVILLE</td>\n",
       "      <td>2018-01-01</td>\n",
       "      <td>7.1125</td>\n",
       "      <td>100145.00</td>\n",
       "      <td>82.00</td>\n",
       "    </tr>\n",
       "    <tr>\n",
       "      <th>1064</th>\n",
       "      <td>ABBEVILLE</td>\n",
       "      <td>2018-01-02</td>\n",
       "      <td>4.6875</td>\n",
       "      <td>100348.75</td>\n",
       "      <td>77.00</td>\n",
       "    </tr>\n",
       "    <tr>\n",
       "      <th>1799</th>\n",
       "      <td>ABBEVILLE</td>\n",
       "      <td>2018-01-03</td>\n",
       "      <td>-2.4250</td>\n",
       "      <td>99900.00</td>\n",
       "      <td>58.25</td>\n",
       "    </tr>\n",
       "    <tr>\n",
       "      <th>6787</th>\n",
       "      <td>ABBEVILLE</td>\n",
       "      <td>2018-01-04</td>\n",
       "      <td>6.7625</td>\n",
       "      <td>101096.25</td>\n",
       "      <td>77.50</td>\n",
       "    </tr>\n",
       "    <tr>\n",
       "      <th>6188</th>\n",
       "      <td>ABBEVILLE</td>\n",
       "      <td>2018-01-05</td>\n",
       "      <td>8.6500</td>\n",
       "      <td>101203.75</td>\n",
       "      <td>75.50</td>\n",
       "    </tr>\n",
       "  </tbody>\n",
       "</table>\n",
       "</div>"
      ],
      "text/plain": [
       "            Nom        Date  Température  Pression au niveau mer  Humidité\n",
       "2116  ABBEVILLE  2018-01-01       7.1125               100145.00     82.00\n",
       "1064  ABBEVILLE  2018-01-02       4.6875               100348.75     77.00\n",
       "1799  ABBEVILLE  2018-01-03      -2.4250                99900.00     58.25\n",
       "6787  ABBEVILLE  2018-01-04       6.7625               101096.25     77.50\n",
       "6188  ABBEVILLE  2018-01-05       8.6500               101203.75     75.50"
      ]
     },
     "execution_count": 130,
     "metadata": {},
     "output_type": "execute_result"
    }
   ],
   "source": [
    "df.head()"
   ]
  },
  {
   "cell_type": "markdown",
   "metadata": {},
   "source": [
    "# Création de l'indice THI (1 pt)\n",
    "Créer une nouvelle colonne nommée THI (Temperature Humidity Index) calculée de la façon suivante :\n",
    "    \n",
    "    THI = T - ((0.55 - 0.0055*H) * (T - 14.5))\n",
    "    avec T : Température en °C\n",
    "    et H : Humidité relative en %"
   ]
  },
  {
   "cell_type": "code",
   "execution_count": 131,
   "metadata": {},
   "outputs": [],
   "source": [
    "df['TH1'] = df.Température - ((0.55-0.0055*df.Humidité)*(df.Température -14.5))"
   ]
  },
  {
   "cell_type": "code",
   "execution_count": 132,
   "metadata": {},
   "outputs": [
    {
     "data": {
      "text/html": [
       "<div>\n",
       "<style scoped>\n",
       "    .dataframe tbody tr th:only-of-type {\n",
       "        vertical-align: middle;\n",
       "    }\n",
       "\n",
       "    .dataframe tbody tr th {\n",
       "        vertical-align: top;\n",
       "    }\n",
       "\n",
       "    .dataframe thead th {\n",
       "        text-align: right;\n",
       "    }\n",
       "</style>\n",
       "<table border=\"1\" class=\"dataframe\">\n",
       "  <thead>\n",
       "    <tr style=\"text-align: right;\">\n",
       "      <th></th>\n",
       "      <th>Nom</th>\n",
       "      <th>Date</th>\n",
       "      <th>Température</th>\n",
       "      <th>Pression au niveau mer</th>\n",
       "      <th>Humidité</th>\n",
       "      <th>TH1</th>\n",
       "    </tr>\n",
       "  </thead>\n",
       "  <tbody>\n",
       "    <tr>\n",
       "      <th>2116</th>\n",
       "      <td>ABBEVILLE</td>\n",
       "      <td>2018-01-01</td>\n",
       "      <td>7.1125</td>\n",
       "      <td>100145.00</td>\n",
       "      <td>82.00</td>\n",
       "      <td>7.843863</td>\n",
       "    </tr>\n",
       "    <tr>\n",
       "      <th>1064</th>\n",
       "      <td>ABBEVILLE</td>\n",
       "      <td>2018-01-02</td>\n",
       "      <td>4.6875</td>\n",
       "      <td>100348.75</td>\n",
       "      <td>77.00</td>\n",
       "      <td>5.928781</td>\n",
       "    </tr>\n",
       "    <tr>\n",
       "      <th>1799</th>\n",
       "      <td>ABBEVILLE</td>\n",
       "      <td>2018-01-03</td>\n",
       "      <td>-2.4250</td>\n",
       "      <td>99900.00</td>\n",
       "      <td>58.25</td>\n",
       "      <td>1.461403</td>\n",
       "    </tr>\n",
       "    <tr>\n",
       "      <th>6787</th>\n",
       "      <td>ABBEVILLE</td>\n",
       "      <td>2018-01-04</td>\n",
       "      <td>6.7625</td>\n",
       "      <td>101096.25</td>\n",
       "      <td>77.50</td>\n",
       "      <td>7.720016</td>\n",
       "    </tr>\n",
       "    <tr>\n",
       "      <th>6188</th>\n",
       "      <td>ABBEVILLE</td>\n",
       "      <td>2018-01-05</td>\n",
       "      <td>8.6500</td>\n",
       "      <td>101203.75</td>\n",
       "      <td>75.50</td>\n",
       "      <td>9.438288</td>\n",
       "    </tr>\n",
       "  </tbody>\n",
       "</table>\n",
       "</div>"
      ],
      "text/plain": [
       "            Nom        Date  Température  Pression au niveau mer  Humidité  \\\n",
       "2116  ABBEVILLE  2018-01-01       7.1125               100145.00     82.00   \n",
       "1064  ABBEVILLE  2018-01-02       4.6875               100348.75     77.00   \n",
       "1799  ABBEVILLE  2018-01-03      -2.4250                99900.00     58.25   \n",
       "6787  ABBEVILLE  2018-01-04       6.7625               101096.25     77.50   \n",
       "6188  ABBEVILLE  2018-01-05       8.6500               101203.75     75.50   \n",
       "\n",
       "           TH1  \n",
       "2116  7.843863  \n",
       "1064  5.928781  \n",
       "1799  1.461403  \n",
       "6787  7.720016  \n",
       "6188  9.438288  "
      ]
     },
     "execution_count": 132,
     "metadata": {},
     "output_type": "execute_result"
    }
   ],
   "source": [
    "df.head() #Nous permet de voir que la colonne 'TH1' a bien été crée"
   ]
  },
  {
   "cell_type": "markdown",
   "metadata": {},
   "source": [
    "# Température moyenne (2 pts)\n",
    "Donner la température moyenne par ville"
   ]
  },
  {
   "cell_type": "code",
   "execution_count": 133,
   "metadata": {
    "scrolled": true
   },
   "outputs": [
    {
     "data": {
      "text/html": [
       "<div>\n",
       "<style scoped>\n",
       "    .dataframe tbody tr th:only-of-type {\n",
       "        vertical-align: middle;\n",
       "    }\n",
       "\n",
       "    .dataframe tbody tr th {\n",
       "        vertical-align: top;\n",
       "    }\n",
       "\n",
       "    .dataframe thead th {\n",
       "        text-align: right;\n",
       "    }\n",
       "</style>\n",
       "<table border=\"1\" class=\"dataframe\">\n",
       "  <thead>\n",
       "    <tr style=\"text-align: right;\">\n",
       "      <th></th>\n",
       "      <th>Température</th>\n",
       "    </tr>\n",
       "    <tr>\n",
       "      <th>Nom</th>\n",
       "      <th></th>\n",
       "    </tr>\n",
       "  </thead>\n",
       "  <tbody>\n",
       "    <tr>\n",
       "      <th>ABBEVILLE</th>\n",
       "      <td>11.304258</td>\n",
       "    </tr>\n",
       "    <tr>\n",
       "      <th>AJACCIO</th>\n",
       "      <td>16.558680</td>\n",
       "    </tr>\n",
       "    <tr>\n",
       "      <th>ALENCON</th>\n",
       "      <td>11.457674</td>\n",
       "    </tr>\n",
       "    <tr>\n",
       "      <th>BALE-MULHOUSE</th>\n",
       "      <td>11.914379</td>\n",
       "    </tr>\n",
       "    <tr>\n",
       "      <th>BASTIA</th>\n",
       "      <td>16.537162</td>\n",
       "    </tr>\n",
       "    <tr>\n",
       "      <th>BELLE ILE-LE TALUT</th>\n",
       "      <td>13.236339</td>\n",
       "    </tr>\n",
       "    <tr>\n",
       "      <th>BORDEAUX-MERIGNAC</th>\n",
       "      <td>14.248408</td>\n",
       "    </tr>\n",
       "    <tr>\n",
       "      <th>BOURGES</th>\n",
       "      <td>12.957671</td>\n",
       "    </tr>\n",
       "    <tr>\n",
       "      <th>BREST-GUIPAVAS</th>\n",
       "      <td>11.557976</td>\n",
       "    </tr>\n",
       "    <tr>\n",
       "      <th>CAEN-CARPIQUET</th>\n",
       "      <td>11.443711</td>\n",
       "    </tr>\n",
       "    <tr>\n",
       "      <th>CAP CEPET</th>\n",
       "      <td>16.245781</td>\n",
       "    </tr>\n",
       "    <tr>\n",
       "      <th>CAYENNE-MATOURY</th>\n",
       "      <td>26.351993</td>\n",
       "    </tr>\n",
       "    <tr>\n",
       "      <th>CLERMONT-FD</th>\n",
       "      <td>12.786500</td>\n",
       "    </tr>\n",
       "    <tr>\n",
       "      <th>CROZET</th>\n",
       "      <td>7.640150</td>\n",
       "    </tr>\n",
       "    <tr>\n",
       "      <th>DIJON-LONGVIC</th>\n",
       "      <td>12.269209</td>\n",
       "    </tr>\n",
       "    <tr>\n",
       "      <th>EUROPA</th>\n",
       "      <td>25.387520</td>\n",
       "    </tr>\n",
       "    <tr>\n",
       "      <th>GILLOT-AEROPORT</th>\n",
       "      <td>24.616322</td>\n",
       "    </tr>\n",
       "    <tr>\n",
       "      <th>GLORIEUSES</th>\n",
       "      <td>27.144322</td>\n",
       "    </tr>\n",
       "    <tr>\n",
       "      <th>GOURDON</th>\n",
       "      <td>13.219463</td>\n",
       "    </tr>\n",
       "    <tr>\n",
       "      <th>JUAN DE NOVA</th>\n",
       "      <td>28.097024</td>\n",
       "    </tr>\n",
       "    <tr>\n",
       "      <th>KERGUELEN</th>\n",
       "      <td>5.695346</td>\n",
       "    </tr>\n",
       "    <tr>\n",
       "      <th>LA DESIRADE METEO</th>\n",
       "      <td>27.115934</td>\n",
       "    </tr>\n",
       "    <tr>\n",
       "      <th>LAMENTIN-AERO</th>\n",
       "      <td>26.635358</td>\n",
       "    </tr>\n",
       "    <tr>\n",
       "      <th>LE RAIZET AERO</th>\n",
       "      <td>25.993549</td>\n",
       "    </tr>\n",
       "    <tr>\n",
       "      <th>LILLE-LESQUIN</th>\n",
       "      <td>11.659824</td>\n",
       "    </tr>\n",
       "    <tr>\n",
       "      <th>LIMOGES-BELLEGARDE</th>\n",
       "      <td>12.199870</td>\n",
       "    </tr>\n",
       "    <tr>\n",
       "      <th>LYON-ST EXUPERY</th>\n",
       "      <td>13.547577</td>\n",
       "    </tr>\n",
       "    <tr>\n",
       "      <th>MARIGNANE</th>\n",
       "      <td>16.391519</td>\n",
       "    </tr>\n",
       "    <tr>\n",
       "      <th>MARIPASOULA</th>\n",
       "      <td>26.308432</td>\n",
       "    </tr>\n",
       "    <tr>\n",
       "      <th>MILLAU</th>\n",
       "      <td>11.412970</td>\n",
       "    </tr>\n",
       "    <tr>\n",
       "      <th>MONT-DE-MARSAN</th>\n",
       "      <td>13.775186</td>\n",
       "    </tr>\n",
       "    <tr>\n",
       "      <th>MONTELIMAR</th>\n",
       "      <td>14.633323</td>\n",
       "    </tr>\n",
       "    <tr>\n",
       "      <th>MONTPELLIER</th>\n",
       "      <td>15.924037</td>\n",
       "    </tr>\n",
       "    <tr>\n",
       "      <th>NANCY-OCHEY</th>\n",
       "      <td>11.345751</td>\n",
       "    </tr>\n",
       "    <tr>\n",
       "      <th>NANTES-BOUGUENAIS</th>\n",
       "      <td>12.967678</td>\n",
       "    </tr>\n",
       "    <tr>\n",
       "      <th>NICE</th>\n",
       "      <td>16.784427</td>\n",
       "    </tr>\n",
       "    <tr>\n",
       "      <th>NOUVELLE AMSTERDAM</th>\n",
       "      <td>15.191596</td>\n",
       "    </tr>\n",
       "    <tr>\n",
       "      <th>ORLY</th>\n",
       "      <td>12.621875</td>\n",
       "    </tr>\n",
       "    <tr>\n",
       "      <th>PAMANDZI</th>\n",
       "      <td>27.153819</td>\n",
       "    </tr>\n",
       "    <tr>\n",
       "      <th>PERPIGNAN</th>\n",
       "      <td>16.508549</td>\n",
       "    </tr>\n",
       "    <tr>\n",
       "      <th>PLOUMANAC'H</th>\n",
       "      <td>12.049899</td>\n",
       "    </tr>\n",
       "    <tr>\n",
       "      <th>POITIERS-BIARD</th>\n",
       "      <td>12.802456</td>\n",
       "    </tr>\n",
       "    <tr>\n",
       "      <th>PTE DE CHASSIRON</th>\n",
       "      <td>13.750927</td>\n",
       "    </tr>\n",
       "    <tr>\n",
       "      <th>PTE DE LA HAGUE</th>\n",
       "      <td>12.181053</td>\n",
       "    </tr>\n",
       "    <tr>\n",
       "      <th>REIMS-PRUNAY</th>\n",
       "      <td>11.559482</td>\n",
       "    </tr>\n",
       "    <tr>\n",
       "      <th>RENNES-ST JACQUES</th>\n",
       "      <td>12.328254</td>\n",
       "    </tr>\n",
       "    <tr>\n",
       "      <th>ROUEN-BOOS</th>\n",
       "      <td>11.431154</td>\n",
       "    </tr>\n",
       "    <tr>\n",
       "      <th>SAINT GEORGES</th>\n",
       "      <td>26.115807</td>\n",
       "    </tr>\n",
       "    <tr>\n",
       "      <th>SAINT LAURENT</th>\n",
       "      <td>26.055629</td>\n",
       "    </tr>\n",
       "    <tr>\n",
       "      <th>ST GIRONS</th>\n",
       "      <td>12.489383</td>\n",
       "    </tr>\n",
       "    <tr>\n",
       "      <th>ST-BARTHELEMY METEO</th>\n",
       "      <td>27.351797</td>\n",
       "    </tr>\n",
       "    <tr>\n",
       "      <th>ST-PIERRE</th>\n",
       "      <td>5.368205</td>\n",
       "    </tr>\n",
       "    <tr>\n",
       "      <th>STRASBOURG-ENTZHEIM</th>\n",
       "      <td>12.246558</td>\n",
       "    </tr>\n",
       "    <tr>\n",
       "      <th>TARBES-OSSUN</th>\n",
       "      <td>12.653329</td>\n",
       "    </tr>\n",
       "    <tr>\n",
       "      <th>TOULOUSE-BLAGNAC</th>\n",
       "      <td>14.471198</td>\n",
       "    </tr>\n",
       "    <tr>\n",
       "      <th>TOURS</th>\n",
       "      <td>12.780001</td>\n",
       "    </tr>\n",
       "    <tr>\n",
       "      <th>TRINITE-CARAVEL</th>\n",
       "      <td>27.145276</td>\n",
       "    </tr>\n",
       "    <tr>\n",
       "      <th>TROMELIN</th>\n",
       "      <td>26.783028</td>\n",
       "    </tr>\n",
       "    <tr>\n",
       "      <th>TROYES-BARBEREY</th>\n",
       "      <td>12.195140</td>\n",
       "    </tr>\n",
       "  </tbody>\n",
       "</table>\n",
       "</div>"
      ],
      "text/plain": [
       "                     Température\n",
       "Nom                             \n",
       "ABBEVILLE              11.304258\n",
       "AJACCIO                16.558680\n",
       "ALENCON                11.457674\n",
       "BALE-MULHOUSE          11.914379\n",
       "BASTIA                 16.537162\n",
       "BELLE ILE-LE TALUT     13.236339\n",
       "BORDEAUX-MERIGNAC      14.248408\n",
       "BOURGES                12.957671\n",
       "BREST-GUIPAVAS         11.557976\n",
       "CAEN-CARPIQUET         11.443711\n",
       "CAP CEPET              16.245781\n",
       "CAYENNE-MATOURY        26.351993\n",
       "CLERMONT-FD            12.786500\n",
       "CROZET                  7.640150\n",
       "DIJON-LONGVIC          12.269209\n",
       "EUROPA                 25.387520\n",
       "GILLOT-AEROPORT        24.616322\n",
       "GLORIEUSES             27.144322\n",
       "GOURDON                13.219463\n",
       "JUAN DE NOVA           28.097024\n",
       "KERGUELEN               5.695346\n",
       "LA DESIRADE METEO      27.115934\n",
       "LAMENTIN-AERO          26.635358\n",
       "LE RAIZET AERO         25.993549\n",
       "LILLE-LESQUIN          11.659824\n",
       "LIMOGES-BELLEGARDE     12.199870\n",
       "LYON-ST EXUPERY        13.547577\n",
       "MARIGNANE              16.391519\n",
       "MARIPASOULA            26.308432\n",
       "MILLAU                 11.412970\n",
       "MONT-DE-MARSAN         13.775186\n",
       "MONTELIMAR             14.633323\n",
       "MONTPELLIER            15.924037\n",
       "NANCY-OCHEY            11.345751\n",
       "NANTES-BOUGUENAIS      12.967678\n",
       "NICE                   16.784427\n",
       "NOUVELLE AMSTERDAM     15.191596\n",
       "ORLY                   12.621875\n",
       "PAMANDZI               27.153819\n",
       "PERPIGNAN              16.508549\n",
       "PLOUMANAC'H            12.049899\n",
       "POITIERS-BIARD         12.802456\n",
       "PTE DE CHASSIRON       13.750927\n",
       "PTE DE LA HAGUE        12.181053\n",
       "REIMS-PRUNAY           11.559482\n",
       "RENNES-ST JACQUES      12.328254\n",
       "ROUEN-BOOS             11.431154\n",
       "SAINT GEORGES          26.115807\n",
       "SAINT LAURENT          26.055629\n",
       "ST GIRONS              12.489383\n",
       "ST-BARTHELEMY METEO    27.351797\n",
       "ST-PIERRE               5.368205\n",
       "STRASBOURG-ENTZHEIM    12.246558\n",
       "TARBES-OSSUN           12.653329\n",
       "TOULOUSE-BLAGNAC       14.471198\n",
       "TOURS                  12.780001\n",
       "TRINITE-CARAVEL        27.145276\n",
       "TROMELIN               26.783028\n",
       "TROYES-BARBEREY        12.195140"
      ]
     },
     "execution_count": 133,
     "metadata": {},
     "output_type": "execute_result"
    }
   ],
   "source": [
    "df.loc[:, ['Nom','Température']].groupby('Nom').mean()"
   ]
  },
  {
   "cell_type": "markdown",
   "metadata": {},
   "source": [
    "# Nombre de jours plus chauds que la moyenne à Orly (3 pts)\n",
    "Donner, pour Orly, le nombre de jours avec une température supérieure à la température moyenne d'Orly"
   ]
  },
  {
   "cell_type": "code",
   "execution_count": 134,
   "metadata": {},
   "outputs": [
    {
     "data": {
      "text/plain": [
       "166"
      ]
     },
     "execution_count": 134,
     "metadata": {},
     "output_type": "execute_result"
    }
   ],
   "source": [
    "extrait = df[df.Nom == 'ORLY'] #Nous donne un dataframe ne contenant que les informations sur 'ORLY'\n",
    "len(extrait[extrait.Température > extrait.Température.mean()]) #Nous donne, pour 'ORLY' le nombre de jours avec une température supérieure à la température moyenne d'Orly"
   ]
  },
  {
   "cell_type": "markdown",
   "metadata": {},
   "source": [
    "# Visualisation (2 pts)\n",
    "Tracer le boxplot des valeurs de température à Orly"
   ]
  },
  {
   "cell_type": "code",
   "execution_count": 135,
   "metadata": {},
   "outputs": [
    {
     "data": {
      "text/plain": [
       "<matplotlib.axes._subplots.AxesSubplot at 0x26efa379ef0>"
      ]
     },
     "execution_count": 135,
     "metadata": {},
     "output_type": "execute_result"
    },
    {
     "data": {
      "image/png": "[encoded data removed]",
      "text/plain": [
       "<Figure size 432x288 with 1 Axes>"
      ]
     },
     "metadata": {
      "needs_background": "light"
     },
     "output_type": "display_data"
    }
   ],
   "source": [
    "extrait.boxplot(column='Température',by='Nom')"
   ]
  },
  {
   "cell_type": "markdown",
   "metadata": {},
   "source": [
    "# Classe (3 pts)\n",
    "Créer une classe s'initialisant avec le DataFrame meteo.csv et proposant deux méthodes.\n",
    "La première prend en argument un nom de ville et renvoie la température moyenne dans cette ville.\n",
    "La seconde prend en argument une température et renvoie le nombre de villes pour lesquelles la température moyenne est supérieure à la température passée en argument de la méthode."
   ]
  },
  {
   "cell_type": "code",
   "execution_count": 136,
   "metadata": {},
   "outputs": [],
   "source": [
    "class Temperature_Sup():\n",
    "    \"\"\"\n",
    "    Classe prenant un dataframe meteo et proposant deux methodes \n",
    "    Methode 1: t_moyenne_ville\n",
    "    Cette methode prend en argument le nom d'une ville et renvoie la température moyenne dans la ville donnée en argument\n",
    "    methode 2: n_ville_sup\n",
    "    Cette methode prend en argument une température et renvoie le nombre de villes pour lesquelles la température moyenne est supérieure à la température passée en argument\n",
    "    \"\"\"\n",
    "    def __init__(self,df):\n",
    "        self.meteo = df\n",
    "    \n",
    "    def t_moyenne_ville(self,Ville):\n",
    "        \"\"\"\n",
    "        Retourne la température moyenne dans Ville\n",
    "\n",
    "        Parameters:\n",
    "        Ville\n",
    "\n",
    "        Returns:\n",
    "        float: température en °C\n",
    "        \"\"\"\n",
    "        self.Ville = Ville\n",
    "        #self.extrait = self.meteo.loc[:, ['Nom','Température']].groupby('Nom').mean()\n",
    "        Temp = self.meteo.Température[self.meteo.Nom == Ville].mean()\n",
    "        return Temp\n",
    "    def n_ville_sup(self,temp):\n",
    "        \"\"\"\n",
    "        Retourne le nombre de villes\n",
    "\n",
    "        Parameters:\n",
    "        température temp\n",
    "\n",
    "        Returns:\n",
    "        int: Nombre de villes pour lesquelles la température moyenne est supérieure à la température passée en argument\n",
    "        \"\"\"\n",
    "        self.temp = temp\n",
    "        extrait = self.meteo.loc[:, ['Nom','Température']].groupby('Nom').mean()\n",
    "        return len(extrait[extrait.Température > temp])"
   ]
  },
  {
   "cell_type": "code",
   "execution_count": 137,
   "metadata": {},
   "outputs": [],
   "source": [
    "Temperature = Temperature_Sup(df)"
   ]
  },
  {
   "cell_type": "code",
   "execution_count": 138,
   "metadata": {},
   "outputs": [
    {
     "data": {
      "text/plain": [
       "12.621875172034166"
      ]
     },
     "execution_count": 138,
     "metadata": {},
     "output_type": "execute_result"
    }
   ],
   "source": [
    "Temperature.t_moyenne_ville('ORLY')"
   ]
  },
  {
   "cell_type": "code",
   "execution_count": 139,
   "metadata": {},
   "outputs": [
    {
     "data": {
      "text/plain": [
       "26"
      ]
     },
     "execution_count": 139,
     "metadata": {},
     "output_type": "execute_result"
    }
   ],
   "source": [
    "Temperature.n_ville_sup(14)"
   ]
  },
  {
   "cell_type": "code",
   "execution_count": null,
   "metadata": {},
   "outputs": [],
   "source": []
  }
 ],
 "metadata": {
  "kernelspec": {
   "display_name": "Python 3",
   "language": "python",
   "name": "python3"
  },
  "language_info": {
   "codemirror_mode": {
    "name": "ipython",
    "version": 3
   },
   "file_extension": ".py",
   "mimetype": "text/x-python",
   "name": "python",
   "nbconvert_exporter": "python",
   "pygments_lexer": "ipython3",
   "version": "3.7.3"
  }
 },
 "nbformat": 4,
 "nbformat_minor": 2
}
