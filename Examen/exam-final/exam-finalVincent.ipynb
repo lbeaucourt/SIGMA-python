{
 "cells": [
  {
   "cell_type": "markdown",
   "metadata": {},
   "source": [
    "# Introduction"
   ]
  },
  {
   "cell_type": "markdown",
   "metadata": {},
   "source": [
    "Cet examen se base sur les données météo france de 2018"
   ]
  },
  {
   "cell_type": "markdown",
   "metadata": {},
   "source": [
    "# Import des modules"
   ]
  },
  {
   "cell_type": "code",
   "execution_count": 2,
   "metadata": {},
   "outputs": [],
   "source": [
    "import numpy as np\n",
    "import pandas as pd\n",
    "import matplotlib.pyplot as plt"
   ]
  },
  {
   "cell_type": "markdown",
   "metadata": {},
   "source": [
    "# Lecture du fichier (1 pt)\n",
    "Lire le fichier datas.csv dans un DataFrame df"
   ]
  },
  {
   "cell_type": "code",
   "execution_count": 3,
   "metadata": {},
   "outputs": [],
   "source": [
    "df=pd.read_csv('meteo.csv')"
   ]
  },
  {
   "cell_type": "markdown",
   "metadata": {},
   "source": [
    "# Aperçu du tableau (1 pt)\n",
    "Afficher les 10 première lignes du DataFrame"
   ]
  },
  {
   "cell_type": "code",
   "execution_count": 4,
   "metadata": {},
   "outputs": [
    {
     "name": "stdout",
     "output_type": "stream",
     "text": [
      "                 Nom        Date  Température  Pression au niveau mer  \\\n",
      "0    TROYES-BARBEREY  2018-08-08     295.5750               101367.50   \n",
      "1         ROUEN-BOOS  2018-08-08     292.4250               101316.25   \n",
      "2               ORLY  2018-08-08     295.9250               101295.00   \n",
      "3      BALE-MULHOUSE  2018-08-08     298.1875               101310.00   \n",
      "4   TOULOUSE-BLAGNAC  2018-08-08     297.9750               101370.00   \n",
      "5  LA DESIRADE METEO  2018-08-08     302.1000               101712.50   \n",
      "6              TOURS  2018-08-08     294.7875               101375.00   \n",
      "7            GOURDON  2018-08-08     296.7625               101385.00   \n",
      "8     LE RAIZET AERO  2018-08-08     300.7125               101742.50   \n",
      "9  NANTES-BOUGUENAIS  2018-08-08     293.7500               101370.00   \n",
      "\n",
      "   Humidité  \n",
      "0    67.375  \n",
      "1    69.250  \n",
      "2    57.750  \n",
      "3    61.250  \n",
      "4    65.375  \n",
      "5    72.000  \n",
      "6    62.000  \n",
      "7    62.500  \n",
      "8    77.500  \n",
      "9    70.625  \n"
     ]
    }
   ],
   "source": [
    "print(df.head(10))"
   ]
  },
  {
   "cell_type": "markdown",
   "metadata": {},
   "source": [
    "# Nombre de Colonnes (1 pt)\n",
    "Afficher le nombre de colonnes dans le DataFrame"
   ]
  },
  {
   "cell_type": "code",
   "execution_count": 5,
   "metadata": {},
   "outputs": [
    {
     "name": "stdout",
     "output_type": "stream",
     "text": [
      "19545\n"
     ]
    }
   ],
   "source": [
    "print (df.shape[0])"
   ]
  },
  {
   "cell_type": "markdown",
   "metadata": {},
   "source": [
    "# Nombre de lignes (1 pt)\n",
    "Afficher le nombre de lignes dans le DataFrame"
   ]
  },
  {
   "cell_type": "code",
   "execution_count": 6,
   "metadata": {},
   "outputs": [
    {
     "name": "stdout",
     "output_type": "stream",
     "text": [
      "5\n"
     ]
    }
   ],
   "source": [
    "print (df.shape[1])"
   ]
  },
  {
   "cell_type": "markdown",
   "metadata": {},
   "source": [
    "# Données manquantes (1 pt)\n",
    "Afficher le nombre données manquantes par colonne"
   ]
  },
  {
   "cell_type": "code",
   "execution_count": 7,
   "metadata": {},
   "outputs": [
    {
     "name": "stdout",
     "output_type": "stream",
     "text": [
      "929\n"
     ]
    }
   ],
   "source": [
    "#print(df.isna())\n",
    "print(int(df.shape[0])-int(df.dropna().shape[0]))"
   ]
  },
  {
   "cell_type": "code",
   "execution_count": 8,
   "metadata": {
    "scrolled": true
   },
   "outputs": [
    {
     "name": "stdout",
     "output_type": "stream",
     "text": [
      "18616\n"
     ]
    }
   ],
   "source": [
    "print(df.dropna().shape[0])"
   ]
  },
  {
   "cell_type": "markdown",
   "metadata": {},
   "source": [
    "# Suppression des manquants (1 pt)\n",
    "Supprimer les lignes contenant des données manquantes"
   ]
  },
  {
   "cell_type": "code",
   "execution_count": 9,
   "metadata": {},
   "outputs": [],
   "source": [
    "df=df.dropna()"
   ]
  },
  {
   "cell_type": "code",
   "execution_count": 10,
   "metadata": {
    "scrolled": false
   },
   "outputs": [
    {
     "name": "stdout",
     "output_type": "stream",
     "text": [
      "                       Nom        Date  Température  Pression au niveau mer  \\\n",
      "0          TROYES-BARBEREY  2018-08-08   295.575000           101367.500000   \n",
      "1               ROUEN-BOOS  2018-08-08   292.425000           101316.250000   \n",
      "2                     ORLY  2018-08-08   295.925000           101295.000000   \n",
      "3            BALE-MULHOUSE  2018-08-08   298.187500           101310.000000   \n",
      "4         TOULOUSE-BLAGNAC  2018-08-08   297.975000           101370.000000   \n",
      "5        LA DESIRADE METEO  2018-08-08   302.100000           101712.500000   \n",
      "6                    TOURS  2018-08-08   294.787500           101375.000000   \n",
      "7                  GOURDON  2018-08-08   296.762500           101385.000000   \n",
      "8           LE RAIZET AERO  2018-08-08   300.712500           101742.500000   \n",
      "9        NANTES-BOUGUENAIS  2018-08-08   293.750000           101370.000000   \n",
      "10           SAINT GEORGES  2018-08-08   300.212500           101416.250000   \n",
      "11               ST GIRONS  2018-08-08   294.212500           101402.500000   \n",
      "12               PERPIGNAN  2018-08-08   298.762500           101341.250000   \n",
      "13       BORDEAUX-MERIGNAC  2018-09-08   293.150000           101717.500000   \n",
      "14         PTE DE LA HAGUE  2018-09-08   289.950000           101558.750000   \n",
      "15               ST-PIERRE  2018-09-08   289.900000           101240.000000   \n",
      "17                    ORLY  2018-09-08   291.012500           101315.000000   \n",
      "18      LIMOGES-BELLEGARDE  2018-09-08   291.200000           101562.500000   \n",
      "19               ABBEVILLE  2018-09-08   288.675000           101313.750000   \n",
      "20     STRASBOURG-ENTZHEIM  2018-09-08   296.350000           101373.750000   \n",
      "21             PLOUMANAC'H  2018-09-08   289.575000           101687.500000   \n",
      "22       RENNES-ST JACQUES  2018-09-08   289.087500           101623.750000   \n",
      "23                   TOURS  2018-09-08   289.875000           101470.000000   \n",
      "24         GILLOT-AEROPORT  2018-09-08   294.525000           102271.250000   \n",
      "25            REIMS-PRUNAY  2018-09-08   290.987500           101266.250000   \n",
      "26             NANCY-OCHEY  2018-09-08   293.325000           101345.000000   \n",
      "27                 BOURGES  2018-09-08   292.162500           101470.000000   \n",
      "28           BALE-MULHOUSE  2018-09-08   295.050000           101462.500000   \n",
      "29             MONTPELLIER  2018-09-08   298.837500           101527.500000   \n",
      "30      LIMOGES-BELLEGARDE  2018-10-08   289.912500           102516.250000   \n",
      "...                    ...         ...          ...                     ...   \n",
      "19515   NOUVELLE AMSTERDAM  2018-11-21   288.650000           102670.000000   \n",
      "19516   NOUVELLE AMSTERDAM  2018-11-09   285.025000           103120.000000   \n",
      "19517      CAYENNE-MATOURY  2018-12-13   300.412500           101346.250000   \n",
      "19518         TARBES-OSSUN  2018-12-21   283.275000           102591.250000   \n",
      "19519      TROYES-BARBEREY  2018-12-21   284.550000           101347.500000   \n",
      "19520                TOURS  2018-12-22   285.100000           102377.500000   \n",
      "19521      PTE DE LA HAGUE  2018-10-12   284.075000           102940.000000   \n",
      "19522             PAMANDZI  2018-07-10   299.450000           101320.000000   \n",
      "19523    BORDEAUX-MERIGNAC  2018-12-25   282.237500           103091.250000   \n",
      "19524       CAEN-CARPIQUET  2018-12-27   274.625000           102660.000000   \n",
      "19525          MARIPASOULA  2018-12-26   297.400000           101231.250000   \n",
      "19526          NANCY-OCHEY  2018-12-19   280.537500           101515.000000   \n",
      "19527               MILLAU  2018-12-19   280.025000           101846.250000   \n",
      "19528             PAMANDZI  2018-12-09   296.750000           101630.000000   \n",
      "19529             PAMANDZI  2018-10-16   296.250000           101440.000000   \n",
      "19530   NOUVELLE AMSTERDAM  2018-07-09   285.450000           102740.000000   \n",
      "19531             PAMANDZI  2018-10-13   301.850000           101500.000000   \n",
      "19532             PAMANDZI  2018-11-10   299.150000           101453.333333   \n",
      "19533         JUAN DE NOVA  2018-10-16   297.750000           101360.000000   \n",
      "19534             PAMANDZI  2018-10-14   299.550000           101460.000000   \n",
      "19535   NOUVELLE AMSTERDAM  2018-09-10   284.550000           102285.000000   \n",
      "19536         JUAN DE NOVA  2018-11-12   306.150000           101280.000000   \n",
      "19537         JUAN DE NOVA  2018-12-24   300.550000           101100.000000   \n",
      "19538   NOUVELLE AMSTERDAM  2018-12-11   288.250000           102240.000000   \n",
      "19539     PTE DE CHASSIRON  2018-12-18   284.716667           101176.666667   \n",
      "19540             PAMANDZI  2018-09-18   298.350000           101670.000000   \n",
      "19541             PAMANDZI  2018-12-22   302.550000           100995.000000   \n",
      "19542         JUAN DE NOVA  2018-12-21   306.250000           100960.000000   \n",
      "19543             PAMANDZI  2018-09-22   296.450000           101430.000000   \n",
      "19544             PAMANDZI  2018-01-11   303.650000           101260.000000   \n",
      "\n",
      "        Humidité  \n",
      "0      67.375000  \n",
      "1      69.250000  \n",
      "2      57.750000  \n",
      "3      61.250000  \n",
      "4      65.375000  \n",
      "5      72.000000  \n",
      "6      62.000000  \n",
      "7      62.500000  \n",
      "8      77.500000  \n",
      "9      70.625000  \n",
      "10     80.625000  \n",
      "11     78.750000  \n",
      "12     69.000000  \n",
      "13     74.875000  \n",
      "14     82.000000  \n",
      "15     91.500000  \n",
      "17     78.625000  \n",
      "18     73.625000  \n",
      "19     84.375000  \n",
      "20     66.500000  \n",
      "21     73.875000  \n",
      "22     82.750000  \n",
      "23     82.500000  \n",
      "24     67.750000  \n",
      "25     82.875000  \n",
      "26     77.125000  \n",
      "27     73.500000  \n",
      "28     71.250000  \n",
      "29     79.250000  \n",
      "30     62.250000  \n",
      "...          ...  \n",
      "19515  67.000000  \n",
      "19516  85.750000  \n",
      "19517  77.875000  \n",
      "19518  66.875000  \n",
      "19519  91.000000  \n",
      "19520  87.500000  \n",
      "19521  68.500000  \n",
      "19522  70.000000  \n",
      "19523  95.625000  \n",
      "19524  89.375000  \n",
      "19525  92.500000  \n",
      "19526  87.375000  \n",
      "19527  89.000000  \n",
      "19528  86.000000  \n",
      "19529  91.500000  \n",
      "19530  90.000000  \n",
      "19531  67.333333  \n",
      "19532  79.666667  \n",
      "19533  86.000000  \n",
      "19534  77.500000  \n",
      "19535  61.500000  \n",
      "19536  65.000000  \n",
      "19537  66.000000  \n",
      "19538  87.000000  \n",
      "19539  78.666667  \n",
      "19540  76.000000  \n",
      "19541  72.000000  \n",
      "19542  61.000000  \n",
      "19543  86.000000  \n",
      "19544  65.000000  \n",
      "\n",
      "[18616 rows x 5 columns]\n"
     ]
    }
   ],
   "source": [
    "print(df)"
   ]
  },
  {
   "cell_type": "markdown",
   "metadata": {},
   "source": [
    "# Tri par nom et par date (2 pts)\n",
    "Trier le DataFrame par nom et par date"
   ]
  },
  {
   "cell_type": "code",
   "execution_count": 11,
   "metadata": {},
   "outputs": [
    {
     "name": "stdout",
     "output_type": "stream",
     "text": [
      "            Nom        Date  Température  Pression au niveau mer  Humidité\n",
      "2116  ABBEVILLE  2018-01-01     280.2625               100145.00     82.00\n",
      "1064  ABBEVILLE  2018-01-02     277.8375               100348.75     77.00\n",
      "1799  ABBEVILLE  2018-01-03     270.7250                99900.00     58.25\n",
      "6787  ABBEVILLE  2018-01-04     279.9125               101096.25     77.50\n",
      "6188  ABBEVILLE  2018-01-05     281.8000               101203.75     75.50\n"
     ]
    }
   ],
   "source": [
    "df=df.sort_values(by=['Nom', 'Date'])\n",
    "print(df.head())"
   ]
  },
  {
   "cell_type": "markdown",
   "metadata": {},
   "source": [
    "# Passage en degrés Celsius (1 pt)\n",
    "Transformer les températures en Kelvin en température en degrés Celsius\n",
    "\n",
    "    pour rappel : T(K) = T(°C) + 273.15"
   ]
  },
  {
   "cell_type": "code",
   "execution_count": 12,
   "metadata": {
    "scrolled": true
   },
   "outputs": [
    {
     "name": "stdout",
     "output_type": "stream",
     "text": [
      "            Nom        Date  Température  Pression au niveau mer  Humidité\n",
      "2116  ABBEVILLE  2018-01-01       7.1125               100145.00     82.00\n",
      "1064  ABBEVILLE  2018-01-02       4.6875               100348.75     77.00\n",
      "1799  ABBEVILLE  2018-01-03      -2.4250                99900.00     58.25\n",
      "6787  ABBEVILLE  2018-01-04       6.7625               101096.25     77.50\n",
      "6188  ABBEVILLE  2018-01-05       8.6500               101203.75     75.50\n"
     ]
    }
   ],
   "source": [
    "if(df['Température'][0]>200):\n",
    "    df['Température']=df['Température']-273.15\n",
    "print(df.head())"
   ]
  },
  {
   "cell_type": "markdown",
   "metadata": {},
   "source": [
    "# Création de l'indice THI (1 pt)\n",
    "Créer une nouvelle colonne nommée THI (Temperature Humidity Index) calculée de la façon suivante :\n",
    "    \n",
    "    THI = T - ((0.55 - 0.0055*H) * (T - 14.5))\n",
    "    avec T : Température en °C\n",
    "    et H : Humidité relative en %"
   ]
  },
  {
   "cell_type": "code",
   "execution_count": 13,
   "metadata": {},
   "outputs": [
    {
     "name": "stdout",
     "output_type": "stream",
     "text": [
      "            Nom        Date  Température  Pression au niveau mer  Humidité  \\\n",
      "2116  ABBEVILLE  2018-01-01       7.1125               100145.00     82.00   \n",
      "1064  ABBEVILLE  2018-01-02       4.6875               100348.75     77.00   \n",
      "1799  ABBEVILLE  2018-01-03      -2.4250                99900.00     58.25   \n",
      "6787  ABBEVILLE  2018-01-04       6.7625               101096.25     77.50   \n",
      "6188  ABBEVILLE  2018-01-05       8.6500               101203.75     75.50   \n",
      "\n",
      "           THI  \n",
      "2116  7.843863  \n",
      "1064  5.928781  \n",
      "1799  1.461403  \n",
      "6787  7.720016  \n",
      "6188  9.438288  \n"
     ]
    }
   ],
   "source": [
    "df['THI']=df['Température']-((df['Température']-14.5)*(-0.0055*df['Humidité']+0.55))\n",
    "print(df.head())"
   ]
  },
  {
   "cell_type": "markdown",
   "metadata": {},
   "source": [
    "# Température moyenne (2 pts)\n",
    "Donner la température moyenne par ville"
   ]
  },
  {
   "cell_type": "code",
   "execution_count": 14,
   "metadata": {
    "scrolled": true
   },
   "outputs": [
    {
     "name": "stdout",
     "output_type": "stream",
     "text": [
      "Nom\n",
      "ABBEVILLE              11.304258\n",
      "AJACCIO                16.558680\n",
      "ALENCON                11.457674\n",
      "BALE-MULHOUSE          11.914379\n",
      "BASTIA                 16.537162\n",
      "BELLE ILE-LE TALUT     13.236339\n",
      "BORDEAUX-MERIGNAC      14.248408\n",
      "BOURGES                12.957671\n",
      "BREST-GUIPAVAS         11.557976\n",
      "CAEN-CARPIQUET         11.443711\n",
      "CAP CEPET              16.245781\n",
      "CAYENNE-MATOURY        26.351993\n",
      "CLERMONT-FD            12.786500\n",
      "CROZET                  7.640150\n",
      "DIJON-LONGVIC          12.269209\n",
      "EUROPA                 25.387520\n",
      "GILLOT-AEROPORT        24.616322\n",
      "GLORIEUSES             27.144322\n",
      "GOURDON                13.219463\n",
      "JUAN DE NOVA           28.097024\n",
      "KERGUELEN               5.695346\n",
      "LA DESIRADE METEO      27.115934\n",
      "LAMENTIN-AERO          26.635358\n",
      "LE RAIZET AERO         25.993549\n",
      "LILLE-LESQUIN          11.659824\n",
      "LIMOGES-BELLEGARDE     12.199870\n",
      "LYON-ST EXUPERY        13.547577\n",
      "MARIGNANE              16.391519\n",
      "MARIPASOULA            26.308432\n",
      "MILLAU                 11.412970\n",
      "MONT-DE-MARSAN         13.775186\n",
      "MONTELIMAR             14.633323\n",
      "MONTPELLIER            15.924037\n",
      "NANCY-OCHEY            11.345751\n",
      "NANTES-BOUGUENAIS      12.967678\n",
      "NICE                   16.784427\n",
      "NOUVELLE AMSTERDAM     15.191596\n",
      "ORLY                   12.621875\n",
      "PAMANDZI               27.153819\n",
      "PERPIGNAN              16.508549\n",
      "PLOUMANAC'H            12.049899\n",
      "POITIERS-BIARD         12.802456\n",
      "PTE DE CHASSIRON       13.750927\n",
      "PTE DE LA HAGUE        12.181053\n",
      "REIMS-PRUNAY           11.559482\n",
      "RENNES-ST JACQUES      12.328254\n",
      "ROUEN-BOOS             11.431154\n",
      "SAINT GEORGES          26.115807\n",
      "SAINT LAURENT          26.055629\n",
      "ST GIRONS              12.489383\n",
      "ST-BARTHELEMY METEO    27.351797\n",
      "ST-PIERRE               5.368205\n",
      "STRASBOURG-ENTZHEIM    12.246558\n",
      "TARBES-OSSUN           12.653329\n",
      "TOULOUSE-BLAGNAC       14.471198\n",
      "TOURS                  12.780001\n",
      "TRINITE-CARAVEL        27.145276\n",
      "TROMELIN               26.783028\n",
      "TROYES-BARBEREY        12.195140\n",
      "Name: Température, dtype: float64\n"
     ]
    }
   ],
   "source": [
    "print(df.groupby(['Nom'])['Température'].mean())"
   ]
  },
  {
   "cell_type": "markdown",
   "metadata": {},
   "source": [
    "# Nombre de jours plus chauds que la moyenne à Orly (3 pts)\n",
    "Donner, pour Orly, le nombre de jours avec une température supérieure à la température moyenne d'Orly"
   ]
  },
  {
   "cell_type": "code",
   "execution_count": 15,
   "metadata": {},
   "outputs": [
    {
     "name": "stdout",
     "output_type": "stream",
     "text": [
      "Nom\n",
      "ORLY    12.621875\n",
      "Name: Température, dtype: float64\n"
     ]
    },
    {
     "ename": "ValueError",
     "evalue": "The truth value of a Series is ambiguous. Use a.empty, a.bool(), a.item(), a.any() or a.all().",
     "output_type": "error",
     "traceback": [
      "\u001b[0;31m---------------------------------------------------------------------------\u001b[0m",
      "\u001b[0;31mValueError\u001b[0m                                Traceback (most recent call last)",
      "\u001b[0;32m<ipython-input-15-88ca084aa144>\u001b[0m in \u001b[0;36m<module>\u001b[0;34m\u001b[0m\n\u001b[1;32m      2\u001b[0m \u001b[0mprint\u001b[0m\u001b[0;34m(\u001b[0m\u001b[0mMoy\u001b[0m\u001b[0;34m)\u001b[0m\u001b[0;34m\u001b[0m\u001b[0m\n\u001b[1;32m      3\u001b[0m \u001b[0;31m#Voici ce que j'ai tenté et qui ne fontionne pas\u001b[0m\u001b[0;34m\u001b[0m\u001b[0;34m\u001b[0m\u001b[0m\n\u001b[0;32m----> 4\u001b[0;31m \u001b[0mprint\u001b[0m\u001b[0;34m(\u001b[0m\u001b[0mdf\u001b[0m\u001b[0;34m[\u001b[0m\u001b[0mdf\u001b[0m\u001b[0;34m[\u001b[0m\u001b[0;34m'Nom'\u001b[0m\u001b[0;34m]\u001b[0m\u001b[0;34m==\u001b[0m\u001b[0;34m'ORLY'\u001b[0m\u001b[0;32mand\u001b[0m \u001b[0mdf\u001b[0m\u001b[0;34m[\u001b[0m\u001b[0;34m'Température'\u001b[0m\u001b[0;34m]\u001b[0m\u001b[0;34m>\u001b[0m\u001b[0mfloat\u001b[0m\u001b[0;34m(\u001b[0m\u001b[0mMoy\u001b[0m\u001b[0;34m)\u001b[0m\u001b[0;34m]\u001b[0m\u001b[0;34m)\u001b[0m\u001b[0;34m\u001b[0m\u001b[0m\n\u001b[0m\u001b[1;32m      5\u001b[0m \u001b[0;34m\u001b[0m\u001b[0m\n\u001b[1;32m      6\u001b[0m \u001b[0;31m#print(df[df['Température']>float(Moy)])\u001b[0m\u001b[0;34m\u001b[0m\u001b[0;34m\u001b[0m\u001b[0m\n",
      "\u001b[0;32m/usr/local/lib/python3.5/dist-packages/pandas/core/generic.py\u001b[0m in \u001b[0;36m__nonzero__\u001b[0;34m(self)\u001b[0m\n\u001b[1;32m   1476\u001b[0m         raise ValueError(\"The truth value of a {0} is ambiguous. \"\n\u001b[1;32m   1477\u001b[0m                          \u001b[0;34m\"Use a.empty, a.bool(), a.item(), a.any() or a.all().\"\u001b[0m\u001b[0;34m\u001b[0m\u001b[0m\n\u001b[0;32m-> 1478\u001b[0;31m                          .format(self.__class__.__name__))\n\u001b[0m\u001b[1;32m   1479\u001b[0m \u001b[0;34m\u001b[0m\u001b[0m\n\u001b[1;32m   1480\u001b[0m     \u001b[0m__bool__\u001b[0m \u001b[0;34m=\u001b[0m \u001b[0m__nonzero__\u001b[0m\u001b[0;34m\u001b[0m\u001b[0m\n",
      "\u001b[0;31mValueError\u001b[0m: The truth value of a Series is ambiguous. Use a.empty, a.bool(), a.item(), a.any() or a.all()."
     ]
    }
   ],
   "source": [
    "Moy=df[df['Nom']=='ORLY'].groupby(['Nom'])['Température'].mean()\n",
    "print(Moy)\n",
    "#Voici ce que j'ai tenté et qui ne fontionne pas\n",
    "print(df[df['Nom']=='ORLY'and df['Température']>float(Moy)])\n",
    "\n",
    "#print(df[df['Température']>float(Moy)])\n",
    "#Orlyvals=df[df['Nom']=='ORLY']#['Température']\n",
    "#print (Orlyvals[Orlyvals['Température']>Moy])"
   ]
  },
  {
   "cell_type": "markdown",
   "metadata": {},
   "source": [
    "# Visualisation (2 pts)\n",
    "Tracer le boxplot des valeurs de température à Orly"
   ]
  },
  {
   "cell_type": "code",
   "execution_count": null,
   "metadata": {},
   "outputs": [],
   "source": [
    "Y=Orlyvals['Température']\n",
    "X = np.linspace(min(Y),max(Y), len(Y),endpoint=True)\n",
    "plt.plot(X, Y, color=\"blue\", linewidth=1.0)"
   ]
  },
  {
   "cell_type": "markdown",
   "metadata": {},
   "source": [
    "# Classe (3 pts)\n",
    "Créer une classe s'initialisant avec le DataFrame meteo.csv et proposant deux méthodes.\n",
    "La première prend en argument un nom de ville et renvoie la température moyenne dans cette ville.\n",
    "La seconde prend en argument une température et renvoie le nombre de villes pour lesquelles la température moyenne est supérieure à la température passée en argument de la méthode."
   ]
  },
  {
   "cell_type": "code",
   "execution_count": null,
   "metadata": {},
   "outputs": [],
   "source": [
    "class Meteo:\n",
    "    \"\"\"Cette classe propose deux méthodes.\n",
    "    L'une qui envoie la température moyenne \n",
    "    et prend en entrée un nom de ville\"\"\""
   ]
  },
  {
   "cell_type": "code",
   "execution_count": null,
   "metadata": {},
   "outputs": [],
   "source": [
    "    def __init(self)__:"
   ]
  },
  {
   "cell_type": "code",
   "execution_count": null,
   "metadata": {},
   "outputs": [],
   "source": []
  },
  {
   "cell_type": "code",
   "execution_count": null,
   "metadata": {},
   "outputs": [],
   "source": []
  }
 ],
 "metadata": {
  "kernelspec": {
   "display_name": "Python 3",
   "language": "python",
   "name": "python3"
  },
  "language_info": {
   "codemirror_mode": {
    "name": "ipython",
    "version": 3
   },
   "file_extension": ".py",
   "mimetype": "text/x-python",
   "name": "python",
   "nbconvert_exporter": "python",
   "pygments_lexer": "ipython3",
   "version": "3.5.2"
  }
 },
 "nbformat": 4,
 "nbformat_minor": 2
}
