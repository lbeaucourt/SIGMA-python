{
 "cells": [
  {
   "cell_type": "markdown",
   "metadata": {},
   "source": [
    "# Introduction"
   ]
  },
  {
   "cell_type": "markdown",
   "metadata": {},
   "source": [
    "Cet examen se base sur les données météo france de 2018"
   ]
  },
  {
   "cell_type": "markdown",
   "metadata": {},
   "source": [
    "# Import des modules"
   ]
  },
  {
   "cell_type": "code",
   "execution_count": 2,
   "metadata": {},
   "outputs": [],
   "source": [
    "import numpy as np\n",
    "import pandas as pd\n",
    "import matplotlib.pyplot as plt\n",
    "import seaborn as sns"
   ]
  },
  {
   "cell_type": "markdown",
   "metadata": {},
   "source": [
    "# Lecture du fichier (1 pt)\n",
    "Lire le fichier datas.csv dans un DataFrame df"
   ]
  },
  {
   "cell_type": "code",
   "execution_count": 3,
   "metadata": {},
   "outputs": [],
   "source": [
    "df = pd.read_csv(\"meteo.csv\", index_col=0)"
   ]
  },
  {
   "cell_type": "markdown",
   "metadata": {},
   "source": [
    "# Aperçu du tableau (1 pt)\n",
    "Afficher les 10 première lignes du DataFrame"
   ]
  },
  {
   "cell_type": "code",
   "execution_count": 91,
   "metadata": {},
   "outputs": [
    {
     "data": {
      "text/html": [
       "<div>\n",
       "<style scoped>\n",
       "    .dataframe tbody tr th:only-of-type {\n",
       "        vertical-align: middle;\n",
       "    }\n",
       "\n",
       "    .dataframe tbody tr th {\n",
       "        vertical-align: top;\n",
       "    }\n",
       "\n",
       "    .dataframe thead th {\n",
       "        text-align: right;\n",
       "    }\n",
       "</style>\n",
       "<table border=\"1\" class=\"dataframe\">\n",
       "  <thead>\n",
       "    <tr style=\"text-align: right;\">\n",
       "      <th></th>\n",
       "      <th>Date</th>\n",
       "      <th>Température</th>\n",
       "      <th>Pression au niveau mer</th>\n",
       "      <th>Humidité</th>\n",
       "    </tr>\n",
       "    <tr>\n",
       "      <th>Nom</th>\n",
       "      <th></th>\n",
       "      <th></th>\n",
       "      <th></th>\n",
       "      <th></th>\n",
       "    </tr>\n",
       "  </thead>\n",
       "  <tbody>\n",
       "    <tr>\n",
       "      <th>TROYES-BARBEREY</th>\n",
       "      <td>2018-08-08</td>\n",
       "      <td>22.4250</td>\n",
       "      <td>101367.50</td>\n",
       "      <td>67.375</td>\n",
       "    </tr>\n",
       "    <tr>\n",
       "      <th>ROUEN-BOOS</th>\n",
       "      <td>2018-08-08</td>\n",
       "      <td>19.2750</td>\n",
       "      <td>101316.25</td>\n",
       "      <td>69.250</td>\n",
       "    </tr>\n",
       "    <tr>\n",
       "      <th>ORLY</th>\n",
       "      <td>2018-08-08</td>\n",
       "      <td>22.7750</td>\n",
       "      <td>101295.00</td>\n",
       "      <td>57.750</td>\n",
       "    </tr>\n",
       "    <tr>\n",
       "      <th>BALE-MULHOUSE</th>\n",
       "      <td>2018-08-08</td>\n",
       "      <td>25.0375</td>\n",
       "      <td>101310.00</td>\n",
       "      <td>61.250</td>\n",
       "    </tr>\n",
       "    <tr>\n",
       "      <th>TOULOUSE-BLAGNAC</th>\n",
       "      <td>2018-08-08</td>\n",
       "      <td>24.8250</td>\n",
       "      <td>101370.00</td>\n",
       "      <td>65.375</td>\n",
       "    </tr>\n",
       "    <tr>\n",
       "      <th>LA DESIRADE METEO</th>\n",
       "      <td>2018-08-08</td>\n",
       "      <td>28.9500</td>\n",
       "      <td>101712.50</td>\n",
       "      <td>72.000</td>\n",
       "    </tr>\n",
       "    <tr>\n",
       "      <th>TOURS</th>\n",
       "      <td>2018-08-08</td>\n",
       "      <td>21.6375</td>\n",
       "      <td>101375.00</td>\n",
       "      <td>62.000</td>\n",
       "    </tr>\n",
       "    <tr>\n",
       "      <th>GOURDON</th>\n",
       "      <td>2018-08-08</td>\n",
       "      <td>23.6125</td>\n",
       "      <td>101385.00</td>\n",
       "      <td>62.500</td>\n",
       "    </tr>\n",
       "    <tr>\n",
       "      <th>LE RAIZET AERO</th>\n",
       "      <td>2018-08-08</td>\n",
       "      <td>27.5625</td>\n",
       "      <td>101742.50</td>\n",
       "      <td>77.500</td>\n",
       "    </tr>\n",
       "    <tr>\n",
       "      <th>NANTES-BOUGUENAIS</th>\n",
       "      <td>2018-08-08</td>\n",
       "      <td>20.6000</td>\n",
       "      <td>101370.00</td>\n",
       "      <td>70.625</td>\n",
       "    </tr>\n",
       "  </tbody>\n",
       "</table>\n",
       "</div>"
      ],
      "text/plain": [
       "                         Date  Température  Pression au niveau mer  Humidité\n",
       "Nom                                                                         \n",
       "TROYES-BARBEREY    2018-08-08      22.4250               101367.50    67.375\n",
       "ROUEN-BOOS         2018-08-08      19.2750               101316.25    69.250\n",
       "ORLY               2018-08-08      22.7750               101295.00    57.750\n",
       "BALE-MULHOUSE      2018-08-08      25.0375               101310.00    61.250\n",
       "TOULOUSE-BLAGNAC   2018-08-08      24.8250               101370.00    65.375\n",
       "LA DESIRADE METEO  2018-08-08      28.9500               101712.50    72.000\n",
       "TOURS              2018-08-08      21.6375               101375.00    62.000\n",
       "GOURDON            2018-08-08      23.6125               101385.00    62.500\n",
       "LE RAIZET AERO     2018-08-08      27.5625               101742.50    77.500\n",
       "NANTES-BOUGUENAIS  2018-08-08      20.6000               101370.00    70.625"
      ]
     },
     "execution_count": 91,
     "metadata": {},
     "output_type": "execute_result"
    }
   ],
   "source": [
    "df.head(10)"
   ]
  },
  {
   "cell_type": "markdown",
   "metadata": {},
   "source": [
    "# Nombre de Colonnes (1 pt)\n",
    "Afficher le nombre de colonnes dans le DataFrame"
   ]
  },
  {
   "cell_type": "code",
   "execution_count": 5,
   "metadata": {},
   "outputs": [
    {
     "data": {
      "text/plain": [
       "4"
      ]
     },
     "execution_count": 5,
     "metadata": {},
     "output_type": "execute_result"
    }
   ],
   "source": [
    "df.shape[1]"
   ]
  },
  {
   "cell_type": "markdown",
   "metadata": {},
   "source": [
    "# Nombre de lignes (1 pt)\n",
    "Afficher le nombre de lignes dans le DataFrame"
   ]
  },
  {
   "cell_type": "code",
   "execution_count": 6,
   "metadata": {},
   "outputs": [
    {
     "data": {
      "text/plain": [
       "19545"
      ]
     },
     "execution_count": 6,
     "metadata": {},
     "output_type": "execute_result"
    }
   ],
   "source": [
    "df.shape[0]"
   ]
  },
  {
   "cell_type": "code",
   "execution_count": null,
   "metadata": {},
   "outputs": [],
   "source": []
  },
  {
   "cell_type": "code",
   "execution_count": null,
   "metadata": {},
   "outputs": [],
   "source": []
  },
  {
   "cell_type": "markdown",
   "metadata": {},
   "source": [
    "# Données manquantes (1 pt)\n",
    "Afficher le nombre données manquantes par colonne"
   ]
  },
  {
   "cell_type": "code",
   "execution_count": 7,
   "metadata": {},
   "outputs": [
    {
     "data": {
      "text/plain": [
       "Date                      19545\n",
       "Température               19469\n",
       "Pression au niveau mer    18616\n",
       "Humidité                  19369\n",
       "dtype: int64"
      ]
     },
     "execution_count": 7,
     "metadata": {},
     "output_type": "execute_result"
    }
   ],
   "source": [
    "df.count()"
   ]
  },
  {
   "cell_type": "code",
   "execution_count": 35,
   "metadata": {},
   "outputs": [],
   "source": [
    "aff=[df.shape[0]-df['Date'].count(), df.shape[0]-df['Température'].count(),df.shape[0]-df['Pression au niveau mer'].count(),df.shape[0]-df['Humidité'].count()]\n"
   ]
  },
  {
   "cell_type": "code",
   "execution_count": 36,
   "metadata": {},
   "outputs": [
    {
     "data": {
      "text/plain": [
       "[0, 76, 929, 176]"
      ]
     },
     "execution_count": 36,
     "metadata": {},
     "output_type": "execute_result"
    }
   ],
   "source": [
    "aff"
   ]
  },
  {
   "cell_type": "code",
   "execution_count": null,
   "metadata": {},
   "outputs": [],
   "source": []
  },
  {
   "cell_type": "markdown",
   "metadata": {},
   "source": [
    "# Suppression des manquants (1 pt)\n",
    "Supprimer les lignes contenant des données manquantes"
   ]
  },
  {
   "cell_type": "code",
   "execution_count": 38,
   "metadata": {},
   "outputs": [
    {
     "data": {
      "text/html": [
       "<div>\n",
       "<style scoped>\n",
       "    .dataframe tbody tr th:only-of-type {\n",
       "        vertical-align: middle;\n",
       "    }\n",
       "\n",
       "    .dataframe tbody tr th {\n",
       "        vertical-align: top;\n",
       "    }\n",
       "\n",
       "    .dataframe thead th {\n",
       "        text-align: right;\n",
       "    }\n",
       "</style>\n",
       "<table border=\"1\" class=\"dataframe\">\n",
       "  <thead>\n",
       "    <tr style=\"text-align: right;\">\n",
       "      <th></th>\n",
       "      <th>Date</th>\n",
       "      <th>Température</th>\n",
       "      <th>Pression au niveau mer</th>\n",
       "      <th>Humidité</th>\n",
       "    </tr>\n",
       "    <tr>\n",
       "      <th>Nom</th>\n",
       "      <th></th>\n",
       "      <th></th>\n",
       "      <th></th>\n",
       "      <th></th>\n",
       "    </tr>\n",
       "  </thead>\n",
       "  <tbody>\n",
       "    <tr>\n",
       "      <th>TROYES-BARBEREY</th>\n",
       "      <td>2018-08-08</td>\n",
       "      <td>295.5750</td>\n",
       "      <td>101367.50</td>\n",
       "      <td>67.375</td>\n",
       "    </tr>\n",
       "    <tr>\n",
       "      <th>ROUEN-BOOS</th>\n",
       "      <td>2018-08-08</td>\n",
       "      <td>292.4250</td>\n",
       "      <td>101316.25</td>\n",
       "      <td>69.250</td>\n",
       "    </tr>\n",
       "    <tr>\n",
       "      <th>ORLY</th>\n",
       "      <td>2018-08-08</td>\n",
       "      <td>295.9250</td>\n",
       "      <td>101295.00</td>\n",
       "      <td>57.750</td>\n",
       "    </tr>\n",
       "    <tr>\n",
       "      <th>BALE-MULHOUSE</th>\n",
       "      <td>2018-08-08</td>\n",
       "      <td>298.1875</td>\n",
       "      <td>101310.00</td>\n",
       "      <td>61.250</td>\n",
       "    </tr>\n",
       "    <tr>\n",
       "      <th>TOULOUSE-BLAGNAC</th>\n",
       "      <td>2018-08-08</td>\n",
       "      <td>297.9750</td>\n",
       "      <td>101370.00</td>\n",
       "      <td>65.375</td>\n",
       "    </tr>\n",
       "    <tr>\n",
       "      <th>LA DESIRADE METEO</th>\n",
       "      <td>2018-08-08</td>\n",
       "      <td>302.1000</td>\n",
       "      <td>101712.50</td>\n",
       "      <td>72.000</td>\n",
       "    </tr>\n",
       "    <tr>\n",
       "      <th>TOURS</th>\n",
       "      <td>2018-08-08</td>\n",
       "      <td>294.7875</td>\n",
       "      <td>101375.00</td>\n",
       "      <td>62.000</td>\n",
       "    </tr>\n",
       "    <tr>\n",
       "      <th>GOURDON</th>\n",
       "      <td>2018-08-08</td>\n",
       "      <td>296.7625</td>\n",
       "      <td>101385.00</td>\n",
       "      <td>62.500</td>\n",
       "    </tr>\n",
       "    <tr>\n",
       "      <th>LE RAIZET AERO</th>\n",
       "      <td>2018-08-08</td>\n",
       "      <td>300.7125</td>\n",
       "      <td>101742.50</td>\n",
       "      <td>77.500</td>\n",
       "    </tr>\n",
       "    <tr>\n",
       "      <th>NANTES-BOUGUENAIS</th>\n",
       "      <td>2018-08-08</td>\n",
       "      <td>293.7500</td>\n",
       "      <td>101370.00</td>\n",
       "      <td>70.625</td>\n",
       "    </tr>\n",
       "  </tbody>\n",
       "</table>\n",
       "</div>"
      ],
      "text/plain": [
       "                         Date  Température  Pression au niveau mer  Humidité\n",
       "Nom                                                                         \n",
       "TROYES-BARBEREY    2018-08-08     295.5750               101367.50    67.375\n",
       "ROUEN-BOOS         2018-08-08     292.4250               101316.25    69.250\n",
       "ORLY               2018-08-08     295.9250               101295.00    57.750\n",
       "BALE-MULHOUSE      2018-08-08     298.1875               101310.00    61.250\n",
       "TOULOUSE-BLAGNAC   2018-08-08     297.9750               101370.00    65.375\n",
       "LA DESIRADE METEO  2018-08-08     302.1000               101712.50    72.000\n",
       "TOURS              2018-08-08     294.7875               101375.00    62.000\n",
       "GOURDON            2018-08-08     296.7625               101385.00    62.500\n",
       "LE RAIZET AERO     2018-08-08     300.7125               101742.50    77.500\n",
       "NANTES-BOUGUENAIS  2018-08-08     293.7500               101370.00    70.625"
      ]
     },
     "execution_count": 38,
     "metadata": {},
     "output_type": "execute_result"
    }
   ],
   "source": [
    "df.dropna().head(10)"
   ]
  },
  {
   "cell_type": "code",
   "execution_count": 40,
   "metadata": {},
   "outputs": [
    {
     "data": {
      "text/plain": [
       "(18616, 4)"
      ]
     },
     "execution_count": 40,
     "metadata": {},
     "output_type": "execute_result"
    }
   ],
   "source": [
    "df.dropna().shape"
   ]
  },
  {
   "cell_type": "code",
   "execution_count": null,
   "metadata": {},
   "outputs": [],
   "source": []
  },
  {
   "cell_type": "markdown",
   "metadata": {},
   "source": [
    "# Tri par nom et par date (2 pts)\n",
    "Trier le DataFrame par nom et par date"
   ]
  },
  {
   "cell_type": "code",
   "execution_count": 42,
   "metadata": {},
   "outputs": [
    {
     "data": {
      "text/html": [
       "<div>\n",
       "<style scoped>\n",
       "    .dataframe tbody tr th:only-of-type {\n",
       "        vertical-align: middle;\n",
       "    }\n",
       "\n",
       "    .dataframe tbody tr th {\n",
       "        vertical-align: top;\n",
       "    }\n",
       "\n",
       "    .dataframe thead th {\n",
       "        text-align: right;\n",
       "    }\n",
       "</style>\n",
       "<table border=\"1\" class=\"dataframe\">\n",
       "  <thead>\n",
       "    <tr style=\"text-align: right;\">\n",
       "      <th></th>\n",
       "      <th>Date</th>\n",
       "      <th>Température</th>\n",
       "      <th>Pression au niveau mer</th>\n",
       "      <th>Humidité</th>\n",
       "    </tr>\n",
       "    <tr>\n",
       "      <th>Nom</th>\n",
       "      <th></th>\n",
       "      <th></th>\n",
       "      <th></th>\n",
       "      <th></th>\n",
       "    </tr>\n",
       "  </thead>\n",
       "  <tbody>\n",
       "    <tr>\n",
       "      <th>ABBEVILLE</th>\n",
       "      <td>2018-01-01</td>\n",
       "      <td>280.2625</td>\n",
       "      <td>100145.00</td>\n",
       "      <td>82.000</td>\n",
       "    </tr>\n",
       "    <tr>\n",
       "      <th>ABBEVILLE</th>\n",
       "      <td>2018-01-02</td>\n",
       "      <td>277.8375</td>\n",
       "      <td>100348.75</td>\n",
       "      <td>77.000</td>\n",
       "    </tr>\n",
       "    <tr>\n",
       "      <th>ABBEVILLE</th>\n",
       "      <td>2018-01-03</td>\n",
       "      <td>270.7250</td>\n",
       "      <td>99900.00</td>\n",
       "      <td>58.250</td>\n",
       "    </tr>\n",
       "    <tr>\n",
       "      <th>ABBEVILLE</th>\n",
       "      <td>2018-01-04</td>\n",
       "      <td>279.9125</td>\n",
       "      <td>101096.25</td>\n",
       "      <td>77.500</td>\n",
       "    </tr>\n",
       "    <tr>\n",
       "      <th>ABBEVILLE</th>\n",
       "      <td>2018-01-05</td>\n",
       "      <td>281.8000</td>\n",
       "      <td>101203.75</td>\n",
       "      <td>75.500</td>\n",
       "    </tr>\n",
       "    <tr>\n",
       "      <th>ABBEVILLE</th>\n",
       "      <td>2018-01-06</td>\n",
       "      <td>288.4875</td>\n",
       "      <td>101907.50</td>\n",
       "      <td>93.125</td>\n",
       "    </tr>\n",
       "    <tr>\n",
       "      <th>ABBEVILLE</th>\n",
       "      <td>2018-01-07</td>\n",
       "      <td>298.1250</td>\n",
       "      <td>101126.25</td>\n",
       "      <td>54.125</td>\n",
       "    </tr>\n",
       "    <tr>\n",
       "      <th>ABBEVILLE</th>\n",
       "      <td>2018-01-08</td>\n",
       "      <td>292.4125</td>\n",
       "      <td>102166.25</td>\n",
       "      <td>67.750</td>\n",
       "    </tr>\n",
       "    <tr>\n",
       "      <th>ABBEVILLE</th>\n",
       "      <td>2018-01-09</td>\n",
       "      <td>288.6500</td>\n",
       "      <td>102590.00</td>\n",
       "      <td>66.375</td>\n",
       "    </tr>\n",
       "    <tr>\n",
       "      <th>ABBEVILLE</th>\n",
       "      <td>2018-01-10</td>\n",
       "      <td>283.7750</td>\n",
       "      <td>102403.75</td>\n",
       "      <td>67.000</td>\n",
       "    </tr>\n",
       "  </tbody>\n",
       "</table>\n",
       "</div>"
      ],
      "text/plain": [
       "                 Date  Température  Pression au niveau mer  Humidité\n",
       "Nom                                                                 \n",
       "ABBEVILLE  2018-01-01     280.2625               100145.00    82.000\n",
       "ABBEVILLE  2018-01-02     277.8375               100348.75    77.000\n",
       "ABBEVILLE  2018-01-03     270.7250                99900.00    58.250\n",
       "ABBEVILLE  2018-01-04     279.9125               101096.25    77.500\n",
       "ABBEVILLE  2018-01-05     281.8000               101203.75    75.500\n",
       "ABBEVILLE  2018-01-06     288.4875               101907.50    93.125\n",
       "ABBEVILLE  2018-01-07     298.1250               101126.25    54.125\n",
       "ABBEVILLE  2018-01-08     292.4125               102166.25    67.750\n",
       "ABBEVILLE  2018-01-09     288.6500               102590.00    66.375\n",
       "ABBEVILLE  2018-01-10     283.7750               102403.75    67.000"
      ]
     },
     "execution_count": 42,
     "metadata": {},
     "output_type": "execute_result"
    }
   ],
   "source": [
    "df.sort_values(by=['Nom','Date'], inplace=False).head(10)"
   ]
  },
  {
   "cell_type": "markdown",
   "metadata": {},
   "source": [
    "# Passage en degrés Celsius (1 pt)\n",
    "Transformer les températures en Kelvin en température en degrés Celsius\n",
    "\n",
    "    pour rappel : T(K) = T(°C) + 273.15"
   ]
  },
  {
   "cell_type": "code",
   "execution_count": 50,
   "metadata": {},
   "outputs": [],
   "source": [
    "df.Température=[x-273.15 for x in df.Température]"
   ]
  },
  {
   "cell_type": "code",
   "execution_count": 51,
   "metadata": {},
   "outputs": [
    {
     "data": {
      "text/html": [
       "<div>\n",
       "<style scoped>\n",
       "    .dataframe tbody tr th:only-of-type {\n",
       "        vertical-align: middle;\n",
       "    }\n",
       "\n",
       "    .dataframe tbody tr th {\n",
       "        vertical-align: top;\n",
       "    }\n",
       "\n",
       "    .dataframe thead th {\n",
       "        text-align: right;\n",
       "    }\n",
       "</style>\n",
       "<table border=\"1\" class=\"dataframe\">\n",
       "  <thead>\n",
       "    <tr style=\"text-align: right;\">\n",
       "      <th></th>\n",
       "      <th>Date</th>\n",
       "      <th>Température</th>\n",
       "      <th>Pression au niveau mer</th>\n",
       "      <th>Humidité</th>\n",
       "    </tr>\n",
       "    <tr>\n",
       "      <th>Nom</th>\n",
       "      <th></th>\n",
       "      <th></th>\n",
       "      <th></th>\n",
       "      <th></th>\n",
       "    </tr>\n",
       "  </thead>\n",
       "  <tbody>\n",
       "    <tr>\n",
       "      <th>TROYES-BARBEREY</th>\n",
       "      <td>2018-08-08</td>\n",
       "      <td>22.4250</td>\n",
       "      <td>101367.50</td>\n",
       "      <td>67.375</td>\n",
       "    </tr>\n",
       "    <tr>\n",
       "      <th>ROUEN-BOOS</th>\n",
       "      <td>2018-08-08</td>\n",
       "      <td>19.2750</td>\n",
       "      <td>101316.25</td>\n",
       "      <td>69.250</td>\n",
       "    </tr>\n",
       "    <tr>\n",
       "      <th>ORLY</th>\n",
       "      <td>2018-08-08</td>\n",
       "      <td>22.7750</td>\n",
       "      <td>101295.00</td>\n",
       "      <td>57.750</td>\n",
       "    </tr>\n",
       "    <tr>\n",
       "      <th>BALE-MULHOUSE</th>\n",
       "      <td>2018-08-08</td>\n",
       "      <td>25.0375</td>\n",
       "      <td>101310.00</td>\n",
       "      <td>61.250</td>\n",
       "    </tr>\n",
       "    <tr>\n",
       "      <th>TOULOUSE-BLAGNAC</th>\n",
       "      <td>2018-08-08</td>\n",
       "      <td>24.8250</td>\n",
       "      <td>101370.00</td>\n",
       "      <td>65.375</td>\n",
       "    </tr>\n",
       "    <tr>\n",
       "      <th>LA DESIRADE METEO</th>\n",
       "      <td>2018-08-08</td>\n",
       "      <td>28.9500</td>\n",
       "      <td>101712.50</td>\n",
       "      <td>72.000</td>\n",
       "    </tr>\n",
       "    <tr>\n",
       "      <th>TOURS</th>\n",
       "      <td>2018-08-08</td>\n",
       "      <td>21.6375</td>\n",
       "      <td>101375.00</td>\n",
       "      <td>62.000</td>\n",
       "    </tr>\n",
       "    <tr>\n",
       "      <th>GOURDON</th>\n",
       "      <td>2018-08-08</td>\n",
       "      <td>23.6125</td>\n",
       "      <td>101385.00</td>\n",
       "      <td>62.500</td>\n",
       "    </tr>\n",
       "    <tr>\n",
       "      <th>LE RAIZET AERO</th>\n",
       "      <td>2018-08-08</td>\n",
       "      <td>27.5625</td>\n",
       "      <td>101742.50</td>\n",
       "      <td>77.500</td>\n",
       "    </tr>\n",
       "    <tr>\n",
       "      <th>NANTES-BOUGUENAIS</th>\n",
       "      <td>2018-08-08</td>\n",
       "      <td>20.6000</td>\n",
       "      <td>101370.00</td>\n",
       "      <td>70.625</td>\n",
       "    </tr>\n",
       "  </tbody>\n",
       "</table>\n",
       "</div>"
      ],
      "text/plain": [
       "                         Date  Température  Pression au niveau mer  Humidité\n",
       "Nom                                                                         \n",
       "TROYES-BARBEREY    2018-08-08      22.4250               101367.50    67.375\n",
       "ROUEN-BOOS         2018-08-08      19.2750               101316.25    69.250\n",
       "ORLY               2018-08-08      22.7750               101295.00    57.750\n",
       "BALE-MULHOUSE      2018-08-08      25.0375               101310.00    61.250\n",
       "TOULOUSE-BLAGNAC   2018-08-08      24.8250               101370.00    65.375\n",
       "LA DESIRADE METEO  2018-08-08      28.9500               101712.50    72.000\n",
       "TOURS              2018-08-08      21.6375               101375.00    62.000\n",
       "GOURDON            2018-08-08      23.6125               101385.00    62.500\n",
       "LE RAIZET AERO     2018-08-08      27.5625               101742.50    77.500\n",
       "NANTES-BOUGUENAIS  2018-08-08      20.6000               101370.00    70.625"
      ]
     },
     "execution_count": 51,
     "metadata": {},
     "output_type": "execute_result"
    }
   ],
   "source": [
    "df.head(10)"
   ]
  },
  {
   "cell_type": "code",
   "execution_count": 43,
   "metadata": {},
   "outputs": [],
   "source": []
  },
  {
   "cell_type": "markdown",
   "metadata": {},
   "source": [
    "# Création de l'indice THI (1 pt)\n",
    "Créer une nouvelle colonne nommée THI (Temperature Humidity Index) calculée de la façon suivante :\n",
    "    \n",
    "    THI = T - ((0.55 - 0.0055*H) * (T - 14.5))\n",
    "    avec T : Température en °C\n",
    "    et H : Humidité relative en %"
   ]
  },
  {
   "cell_type": "code",
   "execution_count": 60,
   "metadata": {},
   "outputs": [
    {
     "ename": "ValueError",
     "evalue": "too many values to unpack (expected 2)",
     "output_type": "error",
     "traceback": [
      "\u001b[1;31m---------------------------------------------------------------------------\u001b[0m",
      "\u001b[1;31mValueError\u001b[0m                                Traceback (most recent call last)",
      "\u001b[1;32m<ipython-input-60-2d0b5610c5a4>\u001b[0m in \u001b[0;36m<module>\u001b[1;34m\u001b[0m\n\u001b[1;32m----> 1\u001b[1;33m \u001b[0mdf\u001b[0m\u001b[1;33m[\u001b[0m\u001b[1;34m'THI'\u001b[0m\u001b[1;33m]\u001b[0m\u001b[1;33m=\u001b[0m\u001b[1;33m[\u001b[0m\u001b[0mx\u001b[0m\u001b[1;33m-\u001b[0m\u001b[1;33m(\u001b[0m\u001b[1;33m(\u001b[0m\u001b[1;36m0.55\u001b[0m\u001b[1;33m-\u001b[0m\u001b[1;36m0.0055\u001b[0m\u001b[1;33m*\u001b[0m\u001b[0my\u001b[0m\u001b[1;33m)\u001b[0m\u001b[1;33m*\u001b[0m\u001b[1;33m(\u001b[0m\u001b[0mx\u001b[0m\u001b[1;33m-\u001b[0m\u001b[1;36m14.5\u001b[0m\u001b[1;33m)\u001b[0m\u001b[1;33m)\u001b[0m \u001b[1;32mfor\u001b[0m \u001b[1;33m(\u001b[0m\u001b[0mx\u001b[0m\u001b[1;33m,\u001b[0m\u001b[0my\u001b[0m\u001b[1;33m)\u001b[0m \u001b[1;32min\u001b[0m \u001b[1;33m(\u001b[0m\u001b[0mdf\u001b[0m\u001b[1;33m.\u001b[0m\u001b[0mTempérature\u001b[0m\u001b[1;33m,\u001b[0m\u001b[0mdf\u001b[0m\u001b[1;33m.\u001b[0m\u001b[0mHumidité\u001b[0m\u001b[1;33m)\u001b[0m\u001b[1;33m]\u001b[0m\u001b[1;33m\u001b[0m\u001b[1;33m\u001b[0m\u001b[0m\n\u001b[0m",
      "\u001b[1;32m<ipython-input-60-2d0b5610c5a4>\u001b[0m in \u001b[0;36m<listcomp>\u001b[1;34m(.0)\u001b[0m\n\u001b[1;32m----> 1\u001b[1;33m \u001b[0mdf\u001b[0m\u001b[1;33m[\u001b[0m\u001b[1;34m'THI'\u001b[0m\u001b[1;33m]\u001b[0m\u001b[1;33m=\u001b[0m\u001b[1;33m[\u001b[0m\u001b[0mx\u001b[0m\u001b[1;33m-\u001b[0m\u001b[1;33m(\u001b[0m\u001b[1;33m(\u001b[0m\u001b[1;36m0.55\u001b[0m\u001b[1;33m-\u001b[0m\u001b[1;36m0.0055\u001b[0m\u001b[1;33m*\u001b[0m\u001b[0my\u001b[0m\u001b[1;33m)\u001b[0m\u001b[1;33m*\u001b[0m\u001b[1;33m(\u001b[0m\u001b[0mx\u001b[0m\u001b[1;33m-\u001b[0m\u001b[1;36m14.5\u001b[0m\u001b[1;33m)\u001b[0m\u001b[1;33m)\u001b[0m \u001b[1;32mfor\u001b[0m \u001b[1;33m(\u001b[0m\u001b[0mx\u001b[0m\u001b[1;33m,\u001b[0m\u001b[0my\u001b[0m\u001b[1;33m)\u001b[0m \u001b[1;32min\u001b[0m \u001b[1;33m(\u001b[0m\u001b[0mdf\u001b[0m\u001b[1;33m.\u001b[0m\u001b[0mTempérature\u001b[0m\u001b[1;33m,\u001b[0m\u001b[0mdf\u001b[0m\u001b[1;33m.\u001b[0m\u001b[0mHumidité\u001b[0m\u001b[1;33m)\u001b[0m\u001b[1;33m]\u001b[0m\u001b[1;33m\u001b[0m\u001b[1;33m\u001b[0m\u001b[0m\n\u001b[0m",
      "\u001b[1;31mValueError\u001b[0m: too many values to unpack (expected 2)"
     ]
    }
   ],
   "source": [
    "df['THI']=[x-((0.55-0.0055*y)*(x-14.5)) for (x,y) in (df.Température,df.Humidité)]"
   ]
  },
  {
   "cell_type": "code",
   "execution_count": 83,
   "metadata": {},
   "outputs": [
    {
     "ename": "SyntaxError",
     "evalue": "invalid syntax (<ipython-input-83-fec8b69ced73>, line 1)",
     "output_type": "error",
     "traceback": [
      "\u001b[1;36m  File \u001b[1;32m\"<ipython-input-83-fec8b69ced73>\"\u001b[1;36m, line \u001b[1;32m1\u001b[0m\n\u001b[1;33m    df['THI']=[df.Température].pipe((x,y):x-((0.55-0.0055*y)*(x-14.5)) for (x,y) in (df.Température,df.Humidité))\u001b[0m\n\u001b[1;37m                                         ^\u001b[0m\n\u001b[1;31mSyntaxError\u001b[0m\u001b[1;31m:\u001b[0m invalid syntax\n"
     ]
    }
   ],
   "source": [
    "df['THI']=[df.Température].pipe((x,y):x-((0.55-0.0055*y)*(x-14.5)) for (x,y) in (df.Température,df.Humidité))"
   ]
  },
  {
   "cell_type": "code",
   "execution_count": 79,
   "metadata": {},
   "outputs": [],
   "source": [
    "df.drop(['THI'], axis=1, inplace=True)"
   ]
  },
  {
   "cell_type": "code",
   "execution_count": null,
   "metadata": {},
   "outputs": [],
   "source": [
    "'''la fonction lambda ne semble pas s'appliquer pour une fonction de plusieurs variables. J'efface la colonne THI et passe à la suite'''"
   ]
  },
  {
   "cell_type": "markdown",
   "metadata": {},
   "source": [
    "# Température moyenne (2 pts)\n",
    "Donner la température moyenne par ville"
   ]
  },
  {
   "cell_type": "code",
   "execution_count": 102,
   "metadata": {},
   "outputs": [],
   "source": [
    "temp=df.loc[:,['Température']]\n"
   ]
  },
  {
   "cell_type": "code",
   "execution_count": 103,
   "metadata": {},
   "outputs": [],
   "source": [
    "tempmoy=temp.groupby(['Nom']).mean()"
   ]
  },
  {
   "cell_type": "code",
   "execution_count": 110,
   "metadata": {},
   "outputs": [],
   "source": [
    "tempordonne=temp.groupby(['Nom'])"
   ]
  },
  {
   "cell_type": "code",
   "execution_count": 104,
   "metadata": {},
   "outputs": [
    {
     "data": {
      "text/html": [
       "<div>\n",
       "<style scoped>\n",
       "    .dataframe tbody tr th:only-of-type {\n",
       "        vertical-align: middle;\n",
       "    }\n",
       "\n",
       "    .dataframe tbody tr th {\n",
       "        vertical-align: top;\n",
       "    }\n",
       "\n",
       "    .dataframe thead th {\n",
       "        text-align: right;\n",
       "    }\n",
       "</style>\n",
       "<table border=\"1\" class=\"dataframe\">\n",
       "  <thead>\n",
       "    <tr style=\"text-align: right;\">\n",
       "      <th></th>\n",
       "      <th>Température</th>\n",
       "    </tr>\n",
       "    <tr>\n",
       "      <th>Nom</th>\n",
       "      <th></th>\n",
       "    </tr>\n",
       "  </thead>\n",
       "  <tbody>\n",
       "    <tr>\n",
       "      <th>ABBEVILLE</th>\n",
       "      <td>11.304258</td>\n",
       "    </tr>\n",
       "    <tr>\n",
       "      <th>AJACCIO</th>\n",
       "      <td>16.558680</td>\n",
       "    </tr>\n",
       "    <tr>\n",
       "      <th>ALENCON</th>\n",
       "      <td>11.590800</td>\n",
       "    </tr>\n",
       "    <tr>\n",
       "      <th>BALE-MULHOUSE</th>\n",
       "      <td>11.914379</td>\n",
       "    </tr>\n",
       "    <tr>\n",
       "      <th>BASTIA</th>\n",
       "      <td>16.537162</td>\n",
       "    </tr>\n",
       "  </tbody>\n",
       "</table>\n",
       "</div>"
      ],
      "text/plain": [
       "               Température\n",
       "Nom                       \n",
       "ABBEVILLE        11.304258\n",
       "AJACCIO          16.558680\n",
       "ALENCON          11.590800\n",
       "BALE-MULHOUSE    11.914379\n",
       "BASTIA           16.537162"
      ]
     },
     "execution_count": 104,
     "metadata": {},
     "output_type": "execute_result"
    }
   ],
   "source": [
    "tempmoy.head()\n"
   ]
  },
  {
   "cell_type": "code",
   "execution_count": 118,
   "metadata": {},
   "outputs": [
    {
     "data": {
      "text/plain": [
       "'température moyenne à Orly'"
      ]
     },
     "execution_count": 118,
     "metadata": {},
     "output_type": "execute_result"
    }
   ],
   "source": [
    "tempmoy.loc['ORLY']\n",
    "'''température moyenne à Orly'''"
   ]
  },
  {
   "cell_type": "code",
   "execution_count": 121,
   "metadata": {},
   "outputs": [
    {
     "data": {
      "text/html": [
       "<div>\n",
       "<style scoped>\n",
       "    .dataframe tbody tr th:only-of-type {\n",
       "        vertical-align: middle;\n",
       "    }\n",
       "\n",
       "    .dataframe tbody tr th {\n",
       "        vertical-align: top;\n",
       "    }\n",
       "\n",
       "    .dataframe thead th {\n",
       "        text-align: right;\n",
       "    }\n",
       "</style>\n",
       "<table border=\"1\" class=\"dataframe\">\n",
       "  <thead>\n",
       "    <tr style=\"text-align: right;\">\n",
       "      <th></th>\n",
       "      <th>Température</th>\n",
       "    </tr>\n",
       "    <tr>\n",
       "      <th>Nom</th>\n",
       "      <th></th>\n",
       "    </tr>\n",
       "  </thead>\n",
       "  <tbody>\n",
       "    <tr>\n",
       "      <th>TROYES-BARBEREY</th>\n",
       "      <td>22.425000</td>\n",
       "    </tr>\n",
       "    <tr>\n",
       "      <th>ROUEN-BOOS</th>\n",
       "      <td>19.275000</td>\n",
       "    </tr>\n",
       "    <tr>\n",
       "      <th>ORLY</th>\n",
       "      <td>22.775000</td>\n",
       "    </tr>\n",
       "    <tr>\n",
       "      <th>BALE-MULHOUSE</th>\n",
       "      <td>25.037500</td>\n",
       "    </tr>\n",
       "    <tr>\n",
       "      <th>TOULOUSE-BLAGNAC</th>\n",
       "      <td>24.825000</td>\n",
       "    </tr>\n",
       "    <tr>\n",
       "      <th>LA DESIRADE METEO</th>\n",
       "      <td>28.950000</td>\n",
       "    </tr>\n",
       "    <tr>\n",
       "      <th>TOURS</th>\n",
       "      <td>21.637500</td>\n",
       "    </tr>\n",
       "    <tr>\n",
       "      <th>GOURDON</th>\n",
       "      <td>23.612500</td>\n",
       "    </tr>\n",
       "    <tr>\n",
       "      <th>LE RAIZET AERO</th>\n",
       "      <td>27.562500</td>\n",
       "    </tr>\n",
       "    <tr>\n",
       "      <th>NANTES-BOUGUENAIS</th>\n",
       "      <td>20.600000</td>\n",
       "    </tr>\n",
       "    <tr>\n",
       "      <th>SAINT GEORGES</th>\n",
       "      <td>27.062500</td>\n",
       "    </tr>\n",
       "    <tr>\n",
       "      <th>ST GIRONS</th>\n",
       "      <td>21.062500</td>\n",
       "    </tr>\n",
       "    <tr>\n",
       "      <th>PERPIGNAN</th>\n",
       "      <td>25.612500</td>\n",
       "    </tr>\n",
       "    <tr>\n",
       "      <th>BORDEAUX-MERIGNAC</th>\n",
       "      <td>20.000000</td>\n",
       "    </tr>\n",
       "    <tr>\n",
       "      <th>PTE DE LA HAGUE</th>\n",
       "      <td>16.800000</td>\n",
       "    </tr>\n",
       "    <tr>\n",
       "      <th>ST-PIERRE</th>\n",
       "      <td>16.750000</td>\n",
       "    </tr>\n",
       "    <tr>\n",
       "      <th>ALENCON</th>\n",
       "      <td>16.325000</td>\n",
       "    </tr>\n",
       "    <tr>\n",
       "      <th>ORLY</th>\n",
       "      <td>17.862500</td>\n",
       "    </tr>\n",
       "    <tr>\n",
       "      <th>LIMOGES-BELLEGARDE</th>\n",
       "      <td>18.050000</td>\n",
       "    </tr>\n",
       "    <tr>\n",
       "      <th>ABBEVILLE</th>\n",
       "      <td>15.525000</td>\n",
       "    </tr>\n",
       "    <tr>\n",
       "      <th>STRASBOURG-ENTZHEIM</th>\n",
       "      <td>23.200000</td>\n",
       "    </tr>\n",
       "    <tr>\n",
       "      <th>PLOUMANAC'H</th>\n",
       "      <td>16.425000</td>\n",
       "    </tr>\n",
       "    <tr>\n",
       "      <th>RENNES-ST JACQUES</th>\n",
       "      <td>15.937500</td>\n",
       "    </tr>\n",
       "    <tr>\n",
       "      <th>TOURS</th>\n",
       "      <td>16.725000</td>\n",
       "    </tr>\n",
       "    <tr>\n",
       "      <th>GILLOT-AEROPORT</th>\n",
       "      <td>21.375000</td>\n",
       "    </tr>\n",
       "    <tr>\n",
       "      <th>REIMS-PRUNAY</th>\n",
       "      <td>17.837500</td>\n",
       "    </tr>\n",
       "    <tr>\n",
       "      <th>NANCY-OCHEY</th>\n",
       "      <td>20.175000</td>\n",
       "    </tr>\n",
       "    <tr>\n",
       "      <th>BOURGES</th>\n",
       "      <td>19.012500</td>\n",
       "    </tr>\n",
       "    <tr>\n",
       "      <th>BALE-MULHOUSE</th>\n",
       "      <td>21.900000</td>\n",
       "    </tr>\n",
       "    <tr>\n",
       "      <th>MONTPELLIER</th>\n",
       "      <td>25.687500</td>\n",
       "    </tr>\n",
       "    <tr>\n",
       "      <th>...</th>\n",
       "      <td>...</td>\n",
       "    </tr>\n",
       "    <tr>\n",
       "      <th>PAMANDZI</th>\n",
       "      <td>27.900000</td>\n",
       "    </tr>\n",
       "    <tr>\n",
       "      <th>MARIPASOULA</th>\n",
       "      <td>26.400000</td>\n",
       "    </tr>\n",
       "    <tr>\n",
       "      <th>PAMANDZI</th>\n",
       "      <td>27.583333</td>\n",
       "    </tr>\n",
       "    <tr>\n",
       "      <th>CAP CEPET</th>\n",
       "      <td>7.087500</td>\n",
       "    </tr>\n",
       "    <tr>\n",
       "      <th>MARIPASOULA</th>\n",
       "      <td>24.837500</td>\n",
       "    </tr>\n",
       "    <tr>\n",
       "      <th>PAMANDZI</th>\n",
       "      <td>28.340000</td>\n",
       "    </tr>\n",
       "    <tr>\n",
       "      <th>CAP CEPET</th>\n",
       "      <td>7.987500</td>\n",
       "    </tr>\n",
       "    <tr>\n",
       "      <th>MARIPASOULA</th>\n",
       "      <td>25.737500</td>\n",
       "    </tr>\n",
       "    <tr>\n",
       "      <th>MARIPASOULA</th>\n",
       "      <td>25.550000</td>\n",
       "    </tr>\n",
       "    <tr>\n",
       "      <th>MILLAU</th>\n",
       "      <td>9.750000</td>\n",
       "    </tr>\n",
       "    <tr>\n",
       "      <th>CAP CEPET</th>\n",
       "      <td>14.712500</td>\n",
       "    </tr>\n",
       "    <tr>\n",
       "      <th>NOUVELLE AMSTERDAM</th>\n",
       "      <td>16.262500</td>\n",
       "    </tr>\n",
       "    <tr>\n",
       "      <th>SAINT LAURENT</th>\n",
       "      <td>25.475000</td>\n",
       "    </tr>\n",
       "    <tr>\n",
       "      <th>TRINITE-CARAVEL</th>\n",
       "      <td>26.412500</td>\n",
       "    </tr>\n",
       "    <tr>\n",
       "      <th>TRINITE-CARAVEL</th>\n",
       "      <td>26.142857</td>\n",
       "    </tr>\n",
       "    <tr>\n",
       "      <th>CROZET</th>\n",
       "      <td>11.312500</td>\n",
       "    </tr>\n",
       "    <tr>\n",
       "      <th>TRINITE-CARAVEL</th>\n",
       "      <td>27.083333</td>\n",
       "    </tr>\n",
       "    <tr>\n",
       "      <th>TRINITE-CARAVEL</th>\n",
       "      <td>27.075000</td>\n",
       "    </tr>\n",
       "    <tr>\n",
       "      <th>CROZET</th>\n",
       "      <td>10.328571</td>\n",
       "    </tr>\n",
       "    <tr>\n",
       "      <th>TRINITE-CARAVEL</th>\n",
       "      <td>25.116667</td>\n",
       "    </tr>\n",
       "    <tr>\n",
       "      <th>SAINT LAURENT</th>\n",
       "      <td>25.812500</td>\n",
       "    </tr>\n",
       "    <tr>\n",
       "      <th>SAINT LAURENT</th>\n",
       "      <td>26.575000</td>\n",
       "    </tr>\n",
       "    <tr>\n",
       "      <th>ST-BARTHELEMY METEO</th>\n",
       "      <td>NaN</td>\n",
       "    </tr>\n",
       "    <tr>\n",
       "      <th>ST-BARTHELEMY METEO</th>\n",
       "      <td>NaN</td>\n",
       "    </tr>\n",
       "    <tr>\n",
       "      <th>ST-BARTHELEMY METEO</th>\n",
       "      <td>NaN</td>\n",
       "    </tr>\n",
       "    <tr>\n",
       "      <th>JUAN DE NOVA</th>\n",
       "      <td>25.500000</td>\n",
       "    </tr>\n",
       "    <tr>\n",
       "      <th>JUAN DE NOVA</th>\n",
       "      <td>29.900000</td>\n",
       "    </tr>\n",
       "    <tr>\n",
       "      <th>JUAN DE NOVA</th>\n",
       "      <td>29.750000</td>\n",
       "    </tr>\n",
       "    <tr>\n",
       "      <th>JUAN DE NOVA</th>\n",
       "      <td>26.500000</td>\n",
       "    </tr>\n",
       "    <tr>\n",
       "      <th>JUAN DE NOVA</th>\n",
       "      <td>31.100000</td>\n",
       "    </tr>\n",
       "  </tbody>\n",
       "</table>\n",
       "<p>305 rows × 1 columns</p>\n",
       "</div>"
      ],
      "text/plain": [
       "                     Température\n",
       "Nom                             \n",
       "TROYES-BARBEREY        22.425000\n",
       "ROUEN-BOOS             19.275000\n",
       "ORLY                   22.775000\n",
       "BALE-MULHOUSE          25.037500\n",
       "TOULOUSE-BLAGNAC       24.825000\n",
       "LA DESIRADE METEO      28.950000\n",
       "TOURS                  21.637500\n",
       "GOURDON                23.612500\n",
       "LE RAIZET AERO         27.562500\n",
       "NANTES-BOUGUENAIS      20.600000\n",
       "SAINT GEORGES          27.062500\n",
       "ST GIRONS              21.062500\n",
       "PERPIGNAN              25.612500\n",
       "BORDEAUX-MERIGNAC      20.000000\n",
       "PTE DE LA HAGUE        16.800000\n",
       "ST-PIERRE              16.750000\n",
       "ALENCON                16.325000\n",
       "ORLY                   17.862500\n",
       "LIMOGES-BELLEGARDE     18.050000\n",
       "ABBEVILLE              15.525000\n",
       "STRASBOURG-ENTZHEIM    23.200000\n",
       "PLOUMANAC'H            16.425000\n",
       "RENNES-ST JACQUES      15.937500\n",
       "TOURS                  16.725000\n",
       "GILLOT-AEROPORT        21.375000\n",
       "REIMS-PRUNAY           17.837500\n",
       "NANCY-OCHEY            20.175000\n",
       "BOURGES                19.012500\n",
       "BALE-MULHOUSE          21.900000\n",
       "MONTPELLIER            25.687500\n",
       "...                          ...\n",
       "PAMANDZI               27.900000\n",
       "MARIPASOULA            26.400000\n",
       "PAMANDZI               27.583333\n",
       "CAP CEPET               7.087500\n",
       "MARIPASOULA            24.837500\n",
       "PAMANDZI               28.340000\n",
       "CAP CEPET               7.987500\n",
       "MARIPASOULA            25.737500\n",
       "MARIPASOULA            25.550000\n",
       "MILLAU                  9.750000\n",
       "CAP CEPET              14.712500\n",
       "NOUVELLE AMSTERDAM     16.262500\n",
       "SAINT LAURENT          25.475000\n",
       "TRINITE-CARAVEL        26.412500\n",
       "TRINITE-CARAVEL        26.142857\n",
       "CROZET                 11.312500\n",
       "TRINITE-CARAVEL        27.083333\n",
       "TRINITE-CARAVEL        27.075000\n",
       "CROZET                 10.328571\n",
       "TRINITE-CARAVEL        25.116667\n",
       "SAINT LAURENT          25.812500\n",
       "SAINT LAURENT          26.575000\n",
       "ST-BARTHELEMY METEO          NaN\n",
       "ST-BARTHELEMY METEO          NaN\n",
       "ST-BARTHELEMY METEO          NaN\n",
       "JUAN DE NOVA           25.500000\n",
       "JUAN DE NOVA           29.900000\n",
       "JUAN DE NOVA           29.750000\n",
       "JUAN DE NOVA           26.500000\n",
       "JUAN DE NOVA           31.100000\n",
       "\n",
       "[305 rows x 1 columns]"
      ]
     },
     "execution_count": 121,
     "metadata": {},
     "output_type": "execute_result"
    }
   ],
   "source": [
    "tempordonne.head()"
   ]
  },
  {
   "cell_type": "markdown",
   "metadata": {},
   "source": [
    "# Nombre de jours plus chauds que la moyenne à Orly (3 pts)\n",
    "Donner, pour Orly, le nombre de jours avec une température supérieure à la température moyenne d'Orly"
   ]
  },
  {
   "cell_type": "markdown",
   "metadata": {},
   "source": [
    "# Visualisation (2 pts)\n",
    "Tracer le boxplot des valeurs de température à Orly"
   ]
  },
  {
   "cell_type": "code",
   "execution_count": null,
   "metadata": {},
   "outputs": [],
   "source": []
  },
  {
   "cell_type": "code",
   "execution_count": null,
   "metadata": {},
   "outputs": [],
   "source": []
  },
  {
   "cell_type": "code",
   "execution_count": null,
   "metadata": {},
   "outputs": [],
   "source": [
    "plt.figure()\n",
    "sns.boxplot(, orient='h')"
   ]
  },
  {
   "cell_type": "markdown",
   "metadata": {},
   "source": [
    "# Classe (3 pts)\n",
    "Créer une classe s'initialisant avec le DataFrame meteo.csv et proposant deux méthodes.\n",
    "La première prend en argument un nom de ville et renvoie la température moyenne dans cette ville.\n",
    "La seconde prend en argument une température et renvoie le nombre de villes pour lesquelles la température moyenne est supérieure à la température passée en argument de la méthode."
   ]
  },
  {
   "cell_type": "code",
   "execution_count": null,
   "metadata": {},
   "outputs": [],
   "source": [
    "class Meteo :\n",
    "    def __init__(self,meteo):\n",
    "        self.meteo=meteo\n",
    "        \n",
    "    def TempMoy(self,ville):\n",
    "        "
   ]
  },
  {
   "cell_type": "code",
   "execution_count": null,
   "metadata": {},
   "outputs": [],
   "source": []
  },
  {
   "cell_type": "code",
   "execution_count": null,
   "metadata": {},
   "outputs": [],
   "source": []
  },
  {
   "cell_type": "code",
   "execution_count": null,
   "metadata": {},
   "outputs": [],
   "source": []
  }
 ],
 "metadata": {
  "kernelspec": {
   "display_name": "Python 3",
   "language": "python",
   "name": "python3"
  },
  "language_info": {
   "codemirror_mode": {
    "name": "ipython",
    "version": 3
   },
   "file_extension": ".py",
   "mimetype": "text/x-python",
   "name": "python",
   "nbconvert_exporter": "python",
   "pygments_lexer": "ipython3",
   "version": "3.7.3"
  }
 },
 "nbformat": 4,
 "nbformat_minor": 2
}
